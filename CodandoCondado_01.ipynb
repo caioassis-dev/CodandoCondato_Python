{
 "cells": [
  {
   "cell_type": "code",
   "execution_count": 2,
   "metadata": {},
   "outputs": [],
   "source": [
    "import pandas as pd \n",
    "import numpy as np"
   ]
  },
  {
   "cell_type": "code",
   "execution_count": 3,
   "metadata": {},
   "outputs": [],
   "source": [
    "import plotly.graph_objects as go\n",
    "import matplotlib.pyplot as plt \n",
    "import seaborn as sns "
   ]
  },
  {
   "cell_type": "code",
   "execution_count": 4,
   "metadata": {},
   "outputs": [
    {
     "data": {
      "text/html": [
       "<div>\n",
       "<style scoped>\n",
       "    .dataframe tbody tr th:only-of-type {\n",
       "        vertical-align: middle;\n",
       "    }\n",
       "\n",
       "    .dataframe tbody tr th {\n",
       "        vertical-align: top;\n",
       "    }\n",
       "\n",
       "    .dataframe thead th {\n",
       "        text-align: right;\n",
       "    }\n",
       "</style>\n",
       "<table border=\"1\" class=\"dataframe\">\n",
       "  <thead>\n",
       "    <tr style=\"text-align: right;\">\n",
       "      <th></th>\n",
       "      <th>Data</th>\n",
       "      <th>Parametro</th>\n",
       "      <th>Ativo</th>\n",
       "      <th>Valor</th>\n",
       "    </tr>\n",
       "  </thead>\n",
       "  <tbody>\n",
       "    <tr>\n",
       "      <th>0</th>\n",
       "      <td>2021-01-04</td>\n",
       "      <td>Adj Close</td>\n",
       "      <td>ABEV3.SA</td>\n",
       "      <td>1.482789e+01</td>\n",
       "    </tr>\n",
       "    <tr>\n",
       "      <th>1</th>\n",
       "      <td>2021-01-04</td>\n",
       "      <td>Close</td>\n",
       "      <td>ABEV3.SA</td>\n",
       "      <td>1.548000e+01</td>\n",
       "    </tr>\n",
       "    <tr>\n",
       "      <th>2</th>\n",
       "      <td>2021-01-04</td>\n",
       "      <td>High</td>\n",
       "      <td>ABEV3.SA</td>\n",
       "      <td>1.585000e+01</td>\n",
       "    </tr>\n",
       "    <tr>\n",
       "      <th>3</th>\n",
       "      <td>2021-01-04</td>\n",
       "      <td>Low</td>\n",
       "      <td>ABEV3.SA</td>\n",
       "      <td>1.538000e+01</td>\n",
       "    </tr>\n",
       "    <tr>\n",
       "      <th>4</th>\n",
       "      <td>2021-01-04</td>\n",
       "      <td>Open</td>\n",
       "      <td>ABEV3.SA</td>\n",
       "      <td>1.579000e+01</td>\n",
       "    </tr>\n",
       "    <tr>\n",
       "      <th>...</th>\n",
       "      <td>...</td>\n",
       "      <td>...</td>\n",
       "      <td>...</td>\n",
       "      <td>...</td>\n",
       "    </tr>\n",
       "    <tr>\n",
       "      <th>22225</th>\n",
       "      <td>2021-12-30</td>\n",
       "      <td>Close</td>\n",
       "      <td>VIIA3.SA</td>\n",
       "      <td>5.250000e+00</td>\n",
       "    </tr>\n",
       "    <tr>\n",
       "      <th>22226</th>\n",
       "      <td>2021-12-30</td>\n",
       "      <td>High</td>\n",
       "      <td>VIIA3.SA</td>\n",
       "      <td>5.320000e+00</td>\n",
       "    </tr>\n",
       "    <tr>\n",
       "      <th>22227</th>\n",
       "      <td>2021-12-30</td>\n",
       "      <td>Low</td>\n",
       "      <td>VIIA3.SA</td>\n",
       "      <td>5.020000e+00</td>\n",
       "    </tr>\n",
       "    <tr>\n",
       "      <th>22228</th>\n",
       "      <td>2021-12-30</td>\n",
       "      <td>Open</td>\n",
       "      <td>VIIA3.SA</td>\n",
       "      <td>5.040000e+00</td>\n",
       "    </tr>\n",
       "    <tr>\n",
       "      <th>22229</th>\n",
       "      <td>2021-12-30</td>\n",
       "      <td>Volume</td>\n",
       "      <td>VIIA3.SA</td>\n",
       "      <td>5.831040e+07</td>\n",
       "    </tr>\n",
       "  </tbody>\n",
       "</table>\n",
       "<p>22230 rows × 4 columns</p>\n",
       "</div>"
      ],
      "text/plain": [
       "            Data  Parametro     Ativo         Valor\n",
       "0     2021-01-04  Adj Close  ABEV3.SA  1.482789e+01\n",
       "1     2021-01-04      Close  ABEV3.SA  1.548000e+01\n",
       "2     2021-01-04       High  ABEV3.SA  1.585000e+01\n",
       "3     2021-01-04        Low  ABEV3.SA  1.538000e+01\n",
       "4     2021-01-04       Open  ABEV3.SA  1.579000e+01\n",
       "...          ...        ...       ...           ...\n",
       "22225 2021-12-30      Close  VIIA3.SA  5.250000e+00\n",
       "22226 2021-12-30       High  VIIA3.SA  5.320000e+00\n",
       "22227 2021-12-30        Low  VIIA3.SA  5.020000e+00\n",
       "22228 2021-12-30       Open  VIIA3.SA  5.040000e+00\n",
       "22229 2021-12-30     Volume  VIIA3.SA  5.831040e+07\n",
       "\n",
       "[22230 rows x 4 columns]"
      ]
     },
     "execution_count": 4,
     "metadata": {},
     "output_type": "execute_result"
    }
   ],
   "source": [
    "modelo_dados = pd.read_excel(\"./modelo/modelo_df.xlsx\")\n",
    "modelo_dados"
   ]
  },
  {
   "cell_type": "code",
   "execution_count": 5,
   "metadata": {},
   "outputs": [
    {
     "data": {
      "text/html": [
       "<div>\n",
       "<style scoped>\n",
       "    .dataframe tbody tr th:only-of-type {\n",
       "        vertical-align: middle;\n",
       "    }\n",
       "\n",
       "    .dataframe tbody tr th {\n",
       "        vertical-align: top;\n",
       "    }\n",
       "\n",
       "    .dataframe thead th {\n",
       "        text-align: right;\n",
       "    }\n",
       "</style>\n",
       "<table border=\"1\" class=\"dataframe\">\n",
       "  <thead>\n",
       "    <tr style=\"text-align: right;\">\n",
       "      <th></th>\n",
       "      <th>Data</th>\n",
       "      <th>Parametro</th>\n",
       "      <th>Ativo</th>\n",
       "      <th>Valor</th>\n",
       "    </tr>\n",
       "  </thead>\n",
       "  <tbody>\n",
       "    <tr>\n",
       "      <th>0</th>\n",
       "      <td>2021-01-04</td>\n",
       "      <td>Adj Close</td>\n",
       "      <td>ABEV3.SA</td>\n",
       "      <td>14.82789</td>\n",
       "    </tr>\n",
       "    <tr>\n",
       "      <th>1</th>\n",
       "      <td>2021-01-04</td>\n",
       "      <td>Close</td>\n",
       "      <td>ABEV3.SA</td>\n",
       "      <td>15.48000</td>\n",
       "    </tr>\n",
       "    <tr>\n",
       "      <th>2</th>\n",
       "      <td>2021-01-04</td>\n",
       "      <td>High</td>\n",
       "      <td>ABEV3.SA</td>\n",
       "      <td>15.85000</td>\n",
       "    </tr>\n",
       "    <tr>\n",
       "      <th>3</th>\n",
       "      <td>2021-01-04</td>\n",
       "      <td>Low</td>\n",
       "      <td>ABEV3.SA</td>\n",
       "      <td>15.38000</td>\n",
       "    </tr>\n",
       "    <tr>\n",
       "      <th>4</th>\n",
       "      <td>2021-01-04</td>\n",
       "      <td>Open</td>\n",
       "      <td>ABEV3.SA</td>\n",
       "      <td>15.79000</td>\n",
       "    </tr>\n",
       "  </tbody>\n",
       "</table>\n",
       "</div>"
      ],
      "text/plain": [
       "        Data  Parametro     Ativo     Valor\n",
       "0 2021-01-04  Adj Close  ABEV3.SA  14.82789\n",
       "1 2021-01-04      Close  ABEV3.SA  15.48000\n",
       "2 2021-01-04       High  ABEV3.SA  15.85000\n",
       "3 2021-01-04        Low  ABEV3.SA  15.38000\n",
       "4 2021-01-04       Open  ABEV3.SA  15.79000"
      ]
     },
     "execution_count": 5,
     "metadata": {},
     "output_type": "execute_result"
    }
   ],
   "source": [
    "modelo_dados.head()\n"
   ]
  },
  {
   "cell_type": "code",
   "execution_count": 6,
   "metadata": {},
   "outputs": [
    {
     "data": {
      "text/html": [
       "<div>\n",
       "<style scoped>\n",
       "    .dataframe tbody tr th:only-of-type {\n",
       "        vertical-align: middle;\n",
       "    }\n",
       "\n",
       "    .dataframe tbody tr th {\n",
       "        vertical-align: top;\n",
       "    }\n",
       "\n",
       "    .dataframe thead th {\n",
       "        text-align: right;\n",
       "    }\n",
       "</style>\n",
       "<table border=\"1\" class=\"dataframe\">\n",
       "  <thead>\n",
       "    <tr style=\"text-align: right;\">\n",
       "      <th></th>\n",
       "      <th>Data</th>\n",
       "      <th>Parametro</th>\n",
       "      <th>Ativo</th>\n",
       "      <th>Valor</th>\n",
       "    </tr>\n",
       "  </thead>\n",
       "  <tbody>\n",
       "    <tr>\n",
       "      <th>22225</th>\n",
       "      <td>2021-12-30</td>\n",
       "      <td>Close</td>\n",
       "      <td>VIIA3.SA</td>\n",
       "      <td>5.25</td>\n",
       "    </tr>\n",
       "    <tr>\n",
       "      <th>22226</th>\n",
       "      <td>2021-12-30</td>\n",
       "      <td>High</td>\n",
       "      <td>VIIA3.SA</td>\n",
       "      <td>5.32</td>\n",
       "    </tr>\n",
       "    <tr>\n",
       "      <th>22227</th>\n",
       "      <td>2021-12-30</td>\n",
       "      <td>Low</td>\n",
       "      <td>VIIA3.SA</td>\n",
       "      <td>5.02</td>\n",
       "    </tr>\n",
       "    <tr>\n",
       "      <th>22228</th>\n",
       "      <td>2021-12-30</td>\n",
       "      <td>Open</td>\n",
       "      <td>VIIA3.SA</td>\n",
       "      <td>5.04</td>\n",
       "    </tr>\n",
       "    <tr>\n",
       "      <th>22229</th>\n",
       "      <td>2021-12-30</td>\n",
       "      <td>Volume</td>\n",
       "      <td>VIIA3.SA</td>\n",
       "      <td>58310400.00</td>\n",
       "    </tr>\n",
       "  </tbody>\n",
       "</table>\n",
       "</div>"
      ],
      "text/plain": [
       "            Data Parametro     Ativo        Valor\n",
       "22225 2021-12-30     Close  VIIA3.SA         5.25\n",
       "22226 2021-12-30      High  VIIA3.SA         5.32\n",
       "22227 2021-12-30       Low  VIIA3.SA         5.02\n",
       "22228 2021-12-30      Open  VIIA3.SA         5.04\n",
       "22229 2021-12-30    Volume  VIIA3.SA  58310400.00"
      ]
     },
     "execution_count": 6,
     "metadata": {},
     "output_type": "execute_result"
    }
   ],
   "source": [
    "modelo_dados.tail()"
   ]
  },
  {
   "cell_type": "code",
   "execution_count": 7,
   "metadata": {},
   "outputs": [
    {
     "data": {
      "text/plain": [
       "(22230, 4)"
      ]
     },
     "execution_count": 7,
     "metadata": {},
     "output_type": "execute_result"
    }
   ],
   "source": [
    "# shape mostra o número de linhas  colunas do dataframe\n",
    "\n",
    "modelo_dados.shape"
   ]
  },
  {
   "cell_type": "code",
   "execution_count": 8,
   "metadata": {},
   "outputs": [
    {
     "data": {
      "text/html": [
       "<div>\n",
       "<style scoped>\n",
       "    .dataframe tbody tr th:only-of-type {\n",
       "        vertical-align: middle;\n",
       "    }\n",
       "\n",
       "    .dataframe tbody tr th {\n",
       "        vertical-align: top;\n",
       "    }\n",
       "\n",
       "    .dataframe thead th {\n",
       "        text-align: right;\n",
       "    }\n",
       "</style>\n",
       "<table border=\"1\" class=\"dataframe\">\n",
       "  <thead>\n",
       "    <tr style=\"text-align: right;\">\n",
       "      <th></th>\n",
       "      <th>Data</th>\n",
       "      <th>Parametro</th>\n",
       "      <th>Ativo</th>\n",
       "      <th>Valor</th>\n",
       "    </tr>\n",
       "  </thead>\n",
       "  <tbody>\n",
       "    <tr>\n",
       "      <th>0</th>\n",
       "      <td>2021-01-04</td>\n",
       "      <td>Adj Close</td>\n",
       "      <td>ABEV3.SA</td>\n",
       "      <td>14.827890</td>\n",
       "    </tr>\n",
       "    <tr>\n",
       "      <th>90</th>\n",
       "      <td>2021-01-05</td>\n",
       "      <td>Adj Close</td>\n",
       "      <td>ABEV3.SA</td>\n",
       "      <td>15.143991</td>\n",
       "    </tr>\n",
       "    <tr>\n",
       "      <th>180</th>\n",
       "      <td>2021-01-06</td>\n",
       "      <td>Adj Close</td>\n",
       "      <td>ABEV3.SA</td>\n",
       "      <td>15.450509</td>\n",
       "    </tr>\n",
       "    <tr>\n",
       "      <th>270</th>\n",
       "      <td>2021-01-07</td>\n",
       "      <td>Adj Close</td>\n",
       "      <td>ABEV3.SA</td>\n",
       "      <td>15.373879</td>\n",
       "    </tr>\n",
       "    <tr>\n",
       "      <th>360</th>\n",
       "      <td>2021-01-08</td>\n",
       "      <td>Adj Close</td>\n",
       "      <td>ABEV3.SA</td>\n",
       "      <td>15.833660</td>\n",
       "    </tr>\n",
       "    <tr>\n",
       "      <th>...</th>\n",
       "      <td>...</td>\n",
       "      <td>...</td>\n",
       "      <td>...</td>\n",
       "      <td>...</td>\n",
       "    </tr>\n",
       "    <tr>\n",
       "      <th>21780</th>\n",
       "      <td>2021-12-23</td>\n",
       "      <td>Adj Close</td>\n",
       "      <td>ABEV3.SA</td>\n",
       "      <td>15.550000</td>\n",
       "    </tr>\n",
       "    <tr>\n",
       "      <th>21870</th>\n",
       "      <td>2021-12-27</td>\n",
       "      <td>Adj Close</td>\n",
       "      <td>ABEV3.SA</td>\n",
       "      <td>15.530000</td>\n",
       "    </tr>\n",
       "    <tr>\n",
       "      <th>21960</th>\n",
       "      <td>2021-12-28</td>\n",
       "      <td>Adj Close</td>\n",
       "      <td>ABEV3.SA</td>\n",
       "      <td>15.520000</td>\n",
       "    </tr>\n",
       "    <tr>\n",
       "      <th>22050</th>\n",
       "      <td>2021-12-29</td>\n",
       "      <td>Adj Close</td>\n",
       "      <td>ABEV3.SA</td>\n",
       "      <td>15.450000</td>\n",
       "    </tr>\n",
       "    <tr>\n",
       "      <th>22140</th>\n",
       "      <td>2021-12-30</td>\n",
       "      <td>Adj Close</td>\n",
       "      <td>ABEV3.SA</td>\n",
       "      <td>15.420000</td>\n",
       "    </tr>\n",
       "  </tbody>\n",
       "</table>\n",
       "<p>247 rows × 4 columns</p>\n",
       "</div>"
      ],
      "text/plain": [
       "            Data  Parametro     Ativo      Valor\n",
       "0     2021-01-04  Adj Close  ABEV3.SA  14.827890\n",
       "90    2021-01-05  Adj Close  ABEV3.SA  15.143991\n",
       "180   2021-01-06  Adj Close  ABEV3.SA  15.450509\n",
       "270   2021-01-07  Adj Close  ABEV3.SA  15.373879\n",
       "360   2021-01-08  Adj Close  ABEV3.SA  15.833660\n",
       "...          ...        ...       ...        ...\n",
       "21780 2021-12-23  Adj Close  ABEV3.SA  15.550000\n",
       "21870 2021-12-27  Adj Close  ABEV3.SA  15.530000\n",
       "21960 2021-12-28  Adj Close  ABEV3.SA  15.520000\n",
       "22050 2021-12-29  Adj Close  ABEV3.SA  15.450000\n",
       "22140 2021-12-30  Adj Close  ABEV3.SA  15.420000\n",
       "\n",
       "[247 rows x 4 columns]"
      ]
     },
     "execution_count": 8,
     "metadata": {},
     "output_type": "execute_result"
    }
   ],
   "source": [
    "abev3 = modelo_dados[(modelo_dados.Ativo == 'ABEV3.SA') & (modelo_dados.Parametro == 'Adj Close')]\n",
    "abev3"
   ]
  },
  {
   "cell_type": "code",
   "execution_count": 9,
   "metadata": {},
   "outputs": [
    {
     "data": {
      "text/plain": [
       "<AxesSubplot:>"
      ]
     },
     "execution_count": 9,
     "metadata": {},
     "output_type": "execute_result"
    },
    {
     "data": {
      "image/png": "[encoded data removed]",
      "text/plain": [
       "<Figure size 640x480 with 1 Axes>"
      ]
     },
     "metadata": {},
     "output_type": "display_data"
    }
   ],
   "source": [
    "abev3.Valor.plot()"
   ]
  },
  {
   "cell_type": "code",
   "execution_count": 10,
   "metadata": {},
   "outputs": [
    {
     "data": {
      "text/plain": [
       "<AxesSubplot:>"
      ]
     },
     "execution_count": 10,
     "metadata": {},
     "output_type": "execute_result"
    },
    {
     "data": {
      "image/png": "[encoded data removed]",
      "text/plain": [
       "<Figure size 640x480 with 1 Axes>"
      ]
     },
     "metadata": {},
     "output_type": "display_data"
    }
   ],
   "source": [
    "abev3['Valor'].plot()"
   ]
  },
  {
   "cell_type": "code",
   "execution_count": 11,
   "metadata": {},
   "outputs": [
    {
     "data": {
      "text/html": [
       "<div>\n",
       "<style scoped>\n",
       "    .dataframe tbody tr th:only-of-type {\n",
       "        vertical-align: middle;\n",
       "    }\n",
       "\n",
       "    .dataframe tbody tr th {\n",
       "        vertical-align: top;\n",
       "    }\n",
       "\n",
       "    .dataframe thead th {\n",
       "        text-align: right;\n",
       "    }\n",
       "</style>\n",
       "<table border=\"1\" class=\"dataframe\">\n",
       "  <thead>\n",
       "    <tr style=\"text-align: right;\">\n",
       "      <th></th>\n",
       "      <th>Data</th>\n",
       "      <th>Parametro</th>\n",
       "      <th>Ativo</th>\n",
       "      <th>Valor</th>\n",
       "    </tr>\n",
       "  </thead>\n",
       "  <tbody>\n",
       "    <tr>\n",
       "      <th>66</th>\n",
       "      <td>2021-01-04</td>\n",
       "      <td>Adj Close</td>\n",
       "      <td>PRIO3.SA</td>\n",
       "      <td>14.960000</td>\n",
       "    </tr>\n",
       "    <tr>\n",
       "      <th>156</th>\n",
       "      <td>2021-01-05</td>\n",
       "      <td>Adj Close</td>\n",
       "      <td>PRIO3.SA</td>\n",
       "      <td>14.758000</td>\n",
       "    </tr>\n",
       "    <tr>\n",
       "      <th>246</th>\n",
       "      <td>2021-01-06</td>\n",
       "      <td>Adj Close</td>\n",
       "      <td>PRIO3.SA</td>\n",
       "      <td>14.590000</td>\n",
       "    </tr>\n",
       "    <tr>\n",
       "      <th>336</th>\n",
       "      <td>2021-01-07</td>\n",
       "      <td>Adj Close</td>\n",
       "      <td>PRIO3.SA</td>\n",
       "      <td>14.806000</td>\n",
       "    </tr>\n",
       "    <tr>\n",
       "      <th>426</th>\n",
       "      <td>2021-01-08</td>\n",
       "      <td>Adj Close</td>\n",
       "      <td>PRIO3.SA</td>\n",
       "      <td>14.890000</td>\n",
       "    </tr>\n",
       "    <tr>\n",
       "      <th>...</th>\n",
       "      <td>...</td>\n",
       "      <td>...</td>\n",
       "      <td>...</td>\n",
       "      <td>...</td>\n",
       "    </tr>\n",
       "    <tr>\n",
       "      <th>21846</th>\n",
       "      <td>2021-12-23</td>\n",
       "      <td>Adj Close</td>\n",
       "      <td>PRIO3.SA</td>\n",
       "      <td>19.700001</td>\n",
       "    </tr>\n",
       "    <tr>\n",
       "      <th>21936</th>\n",
       "      <td>2021-12-27</td>\n",
       "      <td>Adj Close</td>\n",
       "      <td>PRIO3.SA</td>\n",
       "      <td>20.660000</td>\n",
       "    </tr>\n",
       "    <tr>\n",
       "      <th>22026</th>\n",
       "      <td>2021-12-28</td>\n",
       "      <td>Adj Close</td>\n",
       "      <td>PRIO3.SA</td>\n",
       "      <td>20.049999</td>\n",
       "    </tr>\n",
       "    <tr>\n",
       "      <th>22116</th>\n",
       "      <td>2021-12-29</td>\n",
       "      <td>Adj Close</td>\n",
       "      <td>PRIO3.SA</td>\n",
       "      <td>20.049999</td>\n",
       "    </tr>\n",
       "    <tr>\n",
       "      <th>22206</th>\n",
       "      <td>2021-12-30</td>\n",
       "      <td>Adj Close</td>\n",
       "      <td>PRIO3.SA</td>\n",
       "      <td>20.670000</td>\n",
       "    </tr>\n",
       "  </tbody>\n",
       "</table>\n",
       "<p>247 rows × 4 columns</p>\n",
       "</div>"
      ],
      "text/plain": [
       "            Data  Parametro     Ativo      Valor\n",
       "66    2021-01-04  Adj Close  PRIO3.SA  14.960000\n",
       "156   2021-01-05  Adj Close  PRIO3.SA  14.758000\n",
       "246   2021-01-06  Adj Close  PRIO3.SA  14.590000\n",
       "336   2021-01-07  Adj Close  PRIO3.SA  14.806000\n",
       "426   2021-01-08  Adj Close  PRIO3.SA  14.890000\n",
       "...          ...        ...       ...        ...\n",
       "21846 2021-12-23  Adj Close  PRIO3.SA  19.700001\n",
       "21936 2021-12-27  Adj Close  PRIO3.SA  20.660000\n",
       "22026 2021-12-28  Adj Close  PRIO3.SA  20.049999\n",
       "22116 2021-12-29  Adj Close  PRIO3.SA  20.049999\n",
       "22206 2021-12-30  Adj Close  PRIO3.SA  20.670000\n",
       "\n",
       "[247 rows x 4 columns]"
      ]
     },
     "execution_count": 11,
     "metadata": {},
     "output_type": "execute_result"
    }
   ],
   "source": [
    "prio3 = modelo_dados[(modelo_dados.Ativo == 'PRIO3.SA') & (modelo_dados.Parametro == 'Adj Close')]\n",
    "prio3"
   ]
  },
  {
   "cell_type": "code",
   "execution_count": 13,
   "metadata": {},
   "outputs": [
    {
     "data": {
      "application/vnd.plotly.v1+json": {
       "config": {
        "plotlyServerURL": "https://plot.ly"
       },
       "data": [
        {
         "name": "ABEV3",
         "type": "scatter",
         "x": [
          "2021-01-04T00:00:00",
          "2021-01-05T00:00:00",
          "2021-01-06T00:00:00",
          "2021-01-07T00:00:00",
          "2021-01-08T00:00:00",
          "2021-01-11T00:00:00",
          "2021-01-12T00:00:00",
          "2021-01-13T00:00:00",
          "2021-01-14T00:00:00",
          "2021-01-15T00:00:00",
          "2021-01-18T00:00:00",
          "2021-01-19T00:00:00",
          "2021-01-20T00:00:00",
          "2021-01-21T00:00:00",
          "2021-01-22T00:00:00",
          "2021-01-26T00:00:00",
          "2021-01-27T00:00:00",
          "2021-01-28T00:00:00",
          "2021-01-29T00:00:00",
          "2021-02-01T00:00:00",
          "2021-02-02T00:00:00",
          "2021-02-03T00:00:00",
          "2021-02-04T00:00:00",
          "2021-02-05T00:00:00",
          "2021-02-08T00:00:00",
          "2021-02-09T00:00:00",
          "2021-02-10T00:00:00",
          "2021-02-11T00:00:00",
          "2021-02-12T00:00:00",
          "2021-02-17T00:00:00",
          "2021-02-18T00:00:00",
          "2021-02-19T00:00:00",
          "2021-02-22T00:00:00",
          "2021-02-23T00:00:00",
          "2021-02-24T00:00:00",
          "2021-02-25T00:00:00",
          "2021-02-26T00:00:00",
          "2021-03-01T00:00:00",
          "2021-03-02T00:00:00",
          "2021-03-03T00:00:00",
          "2021-03-04T00:00:00",
          "2021-03-05T00:00:00",
          "2021-03-08T00:00:00",
          "2021-03-09T00:00:00",
          "2021-03-10T00:00:00",
          "2021-03-11T00:00:00",
          "2021-03-12T00:00:00",
          "2021-03-15T00:00:00",
          "2021-03-16T00:00:00",
          "2021-03-17T00:00:00",
          "2021-03-18T00:00:00",
          "2021-03-19T00:00:00",
          "2021-03-22T00:00:00",
          "2021-03-23T00:00:00",
          "2021-03-24T00:00:00",
          "2021-03-25T00:00:00",
          "2021-03-26T00:00:00",
          "2021-03-29T00:00:00",
          "2021-03-30T00:00:00",
          "2021-03-31T00:00:00",
          "2021-04-01T00:00:00",
          "2021-04-05T00:00:00",
          "2021-04-06T00:00:00",
          "2021-04-07T00:00:00",
          "2021-04-08T00:00:00",
          "2021-04-09T00:00:00",
          "2021-04-12T00:00:00",
          "2021-04-13T00:00:00",
          "2021-04-14T00:00:00",
          "2021-04-15T00:00:00",
          "2021-04-16T00:00:00",
          "2021-04-19T00:00:00",
          "2021-04-20T00:00:00",
          "2021-04-22T00:00:00",
          "2021-04-23T00:00:00",
          "2021-04-26T00:00:00",
          "2021-04-27T00:00:00",
          "2021-04-28T00:00:00",
          "2021-04-29T00:00:00",
          "2021-04-30T00:00:00",
          "2021-05-03T00:00:00",
          "2021-05-04T00:00:00",
          "2021-05-05T00:00:00",
          "2021-05-06T00:00:00",
          "2021-05-07T00:00:00",
          "2021-05-10T00:00:00",
          "2021-05-11T00:00:00",
          "2021-05-12T00:00:00",
          "2021-05-13T00:00:00",
          "2021-05-14T00:00:00",
          "2021-05-17T00:00:00",
          "2021-05-18T00:00:00",
          "2021-05-19T00:00:00",
          "2021-05-20T00:00:00",
          "2021-05-21T00:00:00",
          "2021-05-24T00:00:00",
          "2021-05-25T00:00:00",
          "2021-05-26T00:00:00",
          "2021-05-27T00:00:00",
          "2021-05-28T00:00:00",
          "2021-05-31T00:00:00",
          "2021-06-01T00:00:00",
          "2021-06-02T00:00:00",
          "2021-06-04T00:00:00",
          "2021-06-07T00:00:00",
          "2021-06-08T00:00:00",
          "2021-06-09T00:00:00",
          "2021-06-10T00:00:00",
          "2021-06-11T00:00:00",
          "2021-06-14T00:00:00",
          "2021-06-15T00:00:00",
          "2021-06-16T00:00:00",
          "2021-06-17T00:00:00",
          "2021-06-18T00:00:00",
          "2021-06-21T00:00:00",
          "2021-06-22T00:00:00",
          "2021-06-23T00:00:00",
          "2021-06-24T00:00:00",
          "2021-06-25T00:00:00",
          "2021-06-28T00:00:00",
          "2021-06-29T00:00:00",
          "2021-06-30T00:00:00",
          "2021-07-01T00:00:00",
          "2021-07-02T00:00:00",
          "2021-07-05T00:00:00",
          "2021-07-06T00:00:00",
          "2021-07-07T00:00:00",
          "2021-07-08T00:00:00",
          "2021-07-12T00:00:00",
          "2021-07-13T00:00:00",
          "2021-07-14T00:00:00",
          "2021-07-15T00:00:00",
          "2021-07-16T00:00:00",
          "2021-07-19T00:00:00",
          "2021-07-20T00:00:00",
          "2021-07-21T00:00:00",
          "2021-07-22T00:00:00",
          "2021-07-23T00:00:00",
          "2021-07-26T00:00:00",
          "2021-07-27T00:00:00",
          "2021-07-28T00:00:00",
          "2021-07-29T00:00:00",
          "2021-07-30T00:00:00",
          "2021-08-02T00:00:00",
          "2021-08-03T00:00:00",
          "2021-08-04T00:00:00",
          "2021-08-05T00:00:00",
          "2021-08-06T00:00:00",
          "2021-08-09T00:00:00",
          "2021-08-10T00:00:00",
          "2021-08-11T00:00:00",
          "2021-08-12T00:00:00",
          "2021-08-13T00:00:00",
          "2021-08-16T00:00:00",
          "2021-08-17T00:00:00",
          "2021-08-18T00:00:00",
          "2021-08-19T00:00:00",
          "2021-08-20T00:00:00",
          "2021-08-23T00:00:00",
          "2021-08-24T00:00:00",
          "2021-08-25T00:00:00",
          "2021-08-26T00:00:00",
          "2021-08-27T00:00:00",
          "2021-08-30T00:00:00",
          "2021-08-31T00:00:00",
          "2021-09-01T00:00:00",
          "2021-09-02T00:00:00",
          "2021-09-03T00:00:00",
          "2021-09-06T00:00:00",
          "2021-09-08T00:00:00",
          "2021-09-09T00:00:00",
          "2021-09-10T00:00:00",
          "2021-09-13T00:00:00",
          "2021-09-14T00:00:00",
          "2021-09-15T00:00:00",
          "2021-09-16T00:00:00",
          "2021-09-17T00:00:00",
          "2021-09-20T00:00:00",
          "2021-09-21T00:00:00",
          "2021-09-22T00:00:00",
          "2021-09-23T00:00:00",
          "2021-09-24T00:00:00",
          "2021-09-27T00:00:00",
          "2021-09-28T00:00:00",
          "2021-09-29T00:00:00",
          "2021-09-30T00:00:00",
          "2021-10-01T00:00:00",
          "2021-10-04T00:00:00",
          "2021-10-05T00:00:00",
          "2021-10-06T00:00:00",
          "2021-10-07T00:00:00",
          "2021-10-08T00:00:00",
          "2021-10-11T00:00:00",
          "2021-10-13T00:00:00",
          "2021-10-14T00:00:00",
          "2021-10-15T00:00:00",
          "2021-10-18T00:00:00",
          "2021-10-19T00:00:00",
          "2021-10-20T00:00:00",
          "2021-10-21T00:00:00",
          "2021-10-22T00:00:00",
          "2021-10-25T00:00:00",
          "2021-10-26T00:00:00",
          "2021-10-27T00:00:00",
          "2021-10-28T00:00:00",
          "2021-10-29T00:00:00",
          "2021-11-01T00:00:00",
          "2021-11-03T00:00:00",
          "2021-11-04T00:00:00",
          "2021-11-05T00:00:00",
          "2021-11-08T00:00:00",
          "2021-11-09T00:00:00",
          "2021-11-10T00:00:00",
          "2021-11-11T00:00:00",
          "2021-11-12T00:00:00",
          "2021-11-16T00:00:00",
          "2021-11-17T00:00:00",
          "2021-11-18T00:00:00",
          "2021-11-19T00:00:00",
          "2021-11-22T00:00:00",
          "2021-11-23T00:00:00",
          "2021-11-24T00:00:00",
          "2021-11-25T00:00:00",
          "2021-11-26T00:00:00",
          "2021-11-29T00:00:00",
          "2021-11-30T00:00:00",
          "2021-12-01T00:00:00",
          "2021-12-02T00:00:00",
          "2021-12-03T00:00:00",
          "2021-12-06T00:00:00",
          "2021-12-07T00:00:00",
          "2021-12-08T00:00:00",
          "2021-12-09T00:00:00",
          "2021-12-10T00:00:00",
          "2021-12-13T00:00:00",
          "2021-12-14T00:00:00",
          "2021-12-15T00:00:00",
          "2021-12-16T00:00:00",
          "2021-12-17T00:00:00",
          "2021-12-20T00:00:00",
          "2021-12-21T00:00:00",
          "2021-12-22T00:00:00",
          "2021-12-23T00:00:00",
          "2021-12-27T00:00:00",
          "2021-12-28T00:00:00",
          "2021-12-29T00:00:00",
          "2021-12-30T00:00:00"
         ],
         "y": [
          14.82789039611816,
          15.1439905166626,
          15.4505090713501,
          15.37387943267822,
          15.83366012573242,
          15.42177295684814,
          16.09228515625,
          15.48882484436035,
          15.64926338195801,
          15.35090637207031,
          15.610764503479,
          15.65888786315918,
          15.41827774047852,
          15.02367687225342,
          14.58095455169678,
          14.82156467437744,
          14.82156467437744,
          14.95630645751953,
          14.54245758056641,
          15.01405334472656,
          15.02367687225342,
          15.09104824066162,
          15.01405334472656,
          14.9370584487915,
          14.3788423538208,
          14.39809226989746,
          14.446213722229,
          14.38846778869629,
          14.23447704315186,
          14.69644832611084,
          14.23447704315186,
          14.33072185516357,
          14.03236484527588,
          14.13823318481445,
          14.1286096572876,
          13.6666374206543,
          13.49339962005615,
          13.25278949737549,
          13.46452522277832,
          13.6377649307251,
          14.22485256195068,
          14.51358413696289,
          14.13823318481445,
          14.59057998657227,
          14.69644832611084,
          14.52320957183838,
          14.46546268463135,
          14.72532176971436,
          14.48471164703369,
          14.84081363677979,
          14.72532176971436,
          15.01405334472656,
          14.95630645751953,
          14.51358413696289,
          14.24410152435303,
          14.42696475982666,
          14.58095455169678,
          14.72532176971436,
          15.00442886352539,
          14.71569728851318,
          14.43658924102783,
          14.69644832611084,
          14.81194114685059,
          14.64832592010498,
          14.8696870803833,
          14.78306770324707,
          14.92743396759033,
          15.04292678833008,
          15.21616554260254,
          15.27391147613525,
          15.20654106140137,
          15.13916969299316,
          15.03330135345459,
          15.30278491973877,
          15.25466346740723,
          15.00442886352539,
          14.71569728851318,
          14.63870143890381,
          14.68682384490967,
          14.3788423538208,
          14.24410152435303,
          14.09011173248291,
          14.30184745788574,
          15.57226848602295,
          15.60114002227783,
          15.88024806976318,
          16.23635101318359,
          16.23635101318359,
          16.24597549438477,
          16.53470802307129,
          16.7464427947998,
          16.76569175720215,
          16.90043449401855,
          16.88118553161621,
          16.94855690002441,
          16.96780395507812,
          16.94855690002441,
          16.81381416320801,
          17.02555084228516,
          17.17954254150391,
          17.27578544616699,
          18.06498527526855,
          18.6424503326416,
          18.65207290649414,
          18.86381149291992,
          18.85418510437012,
          18.58470153808594,
          18.59432601928711,
          18.22860145568848,
          18.74831771850586,
          18.41146278381348,
          18.37296676635742,
          18.29597091674805,
          18.05536079406738,
          18.02648735046387,
          17.6030158996582,
          17.31428337097168,
          17.27578544616699,
          16.31334686279297,
          16.84268760681152,
          16.64057540893555,
          16.4288387298584,
          16.55395698547363,
          16.77531814575195,
          17.26616096496582,
          16.89080810546875,
          17.10254669189453,
          16.70794677734375,
          16.99667739868164,
          17.13141822814941,
          17.2372875213623,
          16.95818138122559,
          16.77531814575195,
          16.37109184265137,
          16.39034271240234,
          16.55395698547363,
          16.39034271240234,
          16.12085914611816,
          16.44808769226074,
          16.28447341918945,
          16.67907333374023,
          16.4865837097168,
          16.01498985290527,
          16.22672653198242,
          16.4288387298584,
          16.0053653717041,
          15.99574184417725,
          16.45771217346191,
          16.51545906066895,
          16.08235931396484,
          15.94761848449707,
          15.95724391937256,
          16.02461433410645,
          15.78400421142578,
          15.70700931549072,
          15.85137462615967,
          16.54433250427246,
          16.88118553161621,
          16.70794677734375,
          16.92930793762207,
          16.9196834564209,
          16.46733665466309,
          16.39996719360352,
          16.53470802307129,
          16.45771217346191,
          16.61170196533203,
          15.89949798583984,
          15.9379940032959,
          16.54433250427246,
          15.60114002227783,
          15.69738483428955,
          15.49527263641357,
          15.73588275909424,
          15.82250213623047,
          15.41827774047852,
          15.52414512634277,
          15.14879417419434,
          15.02367687225342,
          15.07179927825928,
          15.12954616546631,
          15.28353595733643,
          15.24503898620605,
          15.23541355133057,
          14.86006259918213,
          14.90818405151367,
          14.72532176971436,
          14.69644832611084,
          14.47508716583252,
          14.60982894897461,
          14.53283405303955,
          14.51358413696289,
          14.78306770324707,
          14.66757488250732,
          14.92743396759033,
          14.90818405151367,
          14.94668197631836,
          15.03330135345459,
          14.57133102416992,
          14.83118915557861,
          14.57133102416992,
          14.43658924102783,
          14.69644832611084,
          14.59057998657227,
          14.64832592010498,
          16.0727367401123,
          16.35184288024902,
          16.70794677734375,
          17.16029167175293,
          17.20841407775879,
          17.22766304016113,
          17.07367324829102,
          17.21803855895996,
          17.08329772949219,
          16.94855690002441,
          16.8523120880127,
          16.8523120880127,
          16.88118553161621,
          16.93893241882324,
          16.73681831359863,
          16.66944885253906,
          16.55395698547363,
          16.45771217346191,
          16.58282852172852,
          16.06311225891113,
          15.72625827789307,
          15.45677471160889,
          15.26428699493408,
          15.40865325927734,
          15.39902877807617,
          15.47602367401123,
          15.49527263641357,
          15.47602367401123,
          15.21616554260254,
          15.35090637207031,
          15.40865325927734,
          15.56264400482178,
          15.47602367401123,
          15.49527263641357,
          15.46639919281006,
          15.42000007629395,
          15.39999961853027,
          15.39000034332275,
          15.55000019073486,
          15.52999973297119,
          15.52000045776367,
          15.44999980926514,
          15.42000007629395
         ]
        },
        {
         "name": "PRIO3",
         "type": "scatter",
         "x": [
          "2021-01-04T00:00:00",
          "2021-01-05T00:00:00",
          "2021-01-06T00:00:00",
          "2021-01-07T00:00:00",
          "2021-01-08T00:00:00",
          "2021-01-11T00:00:00",
          "2021-01-12T00:00:00",
          "2021-01-13T00:00:00",
          "2021-01-14T00:00:00",
          "2021-01-15T00:00:00",
          "2021-01-18T00:00:00",
          "2021-01-19T00:00:00",
          "2021-01-20T00:00:00",
          "2021-01-21T00:00:00",
          "2021-01-22T00:00:00",
          "2021-01-26T00:00:00",
          "2021-01-27T00:00:00",
          "2021-01-28T00:00:00",
          "2021-01-29T00:00:00",
          "2021-02-01T00:00:00",
          "2021-02-02T00:00:00",
          "2021-02-03T00:00:00",
          "2021-02-04T00:00:00",
          "2021-02-05T00:00:00",
          "2021-02-08T00:00:00",
          "2021-02-09T00:00:00",
          "2021-02-10T00:00:00",
          "2021-02-11T00:00:00",
          "2021-02-12T00:00:00",
          "2021-02-17T00:00:00",
          "2021-02-18T00:00:00",
          "2021-02-19T00:00:00",
          "2021-02-22T00:00:00",
          "2021-02-23T00:00:00",
          "2021-02-24T00:00:00",
          "2021-02-25T00:00:00",
          "2021-02-26T00:00:00",
          "2021-03-01T00:00:00",
          "2021-03-02T00:00:00",
          "2021-03-03T00:00:00",
          "2021-03-04T00:00:00",
          "2021-03-05T00:00:00",
          "2021-03-08T00:00:00",
          "2021-03-09T00:00:00",
          "2021-03-10T00:00:00",
          "2021-03-11T00:00:00",
          "2021-03-12T00:00:00",
          "2021-03-15T00:00:00",
          "2021-03-16T00:00:00",
          "2021-03-17T00:00:00",
          "2021-03-18T00:00:00",
          "2021-03-19T00:00:00",
          "2021-03-22T00:00:00",
          "2021-03-23T00:00:00",
          "2021-03-24T00:00:00",
          "2021-03-25T00:00:00",
          "2021-03-26T00:00:00",
          "2021-03-29T00:00:00",
          "2021-03-30T00:00:00",
          "2021-03-31T00:00:00",
          "2021-04-01T00:00:00",
          "2021-04-05T00:00:00",
          "2021-04-06T00:00:00",
          "2021-04-07T00:00:00",
          "2021-04-08T00:00:00",
          "2021-04-09T00:00:00",
          "2021-04-12T00:00:00",
          "2021-04-13T00:00:00",
          "2021-04-14T00:00:00",
          "2021-04-15T00:00:00",
          "2021-04-16T00:00:00",
          "2021-04-19T00:00:00",
          "2021-04-20T00:00:00",
          "2021-04-22T00:00:00",
          "2021-04-23T00:00:00",
          "2021-04-26T00:00:00",
          "2021-04-27T00:00:00",
          "2021-04-28T00:00:00",
          "2021-04-29T00:00:00",
          "2021-04-30T00:00:00",
          "2021-05-03T00:00:00",
          "2021-05-04T00:00:00",
          "2021-05-05T00:00:00",
          "2021-05-06T00:00:00",
          "2021-05-07T00:00:00",
          "2021-05-10T00:00:00",
          "2021-05-11T00:00:00",
          "2021-05-12T00:00:00",
          "2021-05-13T00:00:00",
          "2021-05-14T00:00:00",
          "2021-05-17T00:00:00",
          "2021-05-18T00:00:00",
          "2021-05-19T00:00:00",
          "2021-05-20T00:00:00",
          "2021-05-21T00:00:00",
          "2021-05-24T00:00:00",
          "2021-05-25T00:00:00",
          "2021-05-26T00:00:00",
          "2021-05-27T00:00:00",
          "2021-05-28T00:00:00",
          "2021-05-31T00:00:00",
          "2021-06-01T00:00:00",
          "2021-06-02T00:00:00",
          "2021-06-04T00:00:00",
          "2021-06-07T00:00:00",
          "2021-06-08T00:00:00",
          "2021-06-09T00:00:00",
          "2021-06-10T00:00:00",
          "2021-06-11T00:00:00",
          "2021-06-14T00:00:00",
          "2021-06-15T00:00:00",
          "2021-06-16T00:00:00",
          "2021-06-17T00:00:00",
          "2021-06-18T00:00:00",
          "2021-06-21T00:00:00",
          "2021-06-22T00:00:00",
          "2021-06-23T00:00:00",
          "2021-06-24T00:00:00",
          "2021-06-25T00:00:00",
          "2021-06-28T00:00:00",
          "2021-06-29T00:00:00",
          "2021-06-30T00:00:00",
          "2021-07-01T00:00:00",
          "2021-07-02T00:00:00",
          "2021-07-05T00:00:00",
          "2021-07-06T00:00:00",
          "2021-07-07T00:00:00",
          "2021-07-08T00:00:00",
          "2021-07-12T00:00:00",
          "2021-07-13T00:00:00",
          "2021-07-14T00:00:00",
          "2021-07-15T00:00:00",
          "2021-07-16T00:00:00",
          "2021-07-19T00:00:00",
          "2021-07-20T00:00:00",
          "2021-07-21T00:00:00",
          "2021-07-22T00:00:00",
          "2021-07-23T00:00:00",
          "2021-07-26T00:00:00",
          "2021-07-27T00:00:00",
          "2021-07-28T00:00:00",
          "2021-07-29T00:00:00",
          "2021-07-30T00:00:00",
          "2021-08-02T00:00:00",
          "2021-08-03T00:00:00",
          "2021-08-04T00:00:00",
          "2021-08-05T00:00:00",
          "2021-08-06T00:00:00",
          "2021-08-09T00:00:00",
          "2021-08-10T00:00:00",
          "2021-08-11T00:00:00",
          "2021-08-12T00:00:00",
          "2021-08-13T00:00:00",
          "2021-08-16T00:00:00",
          "2021-08-17T00:00:00",
          "2021-08-18T00:00:00",
          "2021-08-19T00:00:00",
          "2021-08-20T00:00:00",
          "2021-08-23T00:00:00",
          "2021-08-24T00:00:00",
          "2021-08-25T00:00:00",
          "2021-08-26T00:00:00",
          "2021-08-27T00:00:00",
          "2021-08-30T00:00:00",
          "2021-08-31T00:00:00",
          "2021-09-01T00:00:00",
          "2021-09-02T00:00:00",
          "2021-09-03T00:00:00",
          "2021-09-06T00:00:00",
          "2021-09-08T00:00:00",
          "2021-09-09T00:00:00",
          "2021-09-10T00:00:00",
          "2021-09-13T00:00:00",
          "2021-09-14T00:00:00",
          "2021-09-15T00:00:00",
          "2021-09-16T00:00:00",
          "2021-09-17T00:00:00",
          "2021-09-20T00:00:00",
          "2021-09-21T00:00:00",
          "2021-09-22T00:00:00",
          "2021-09-23T00:00:00",
          "2021-09-24T00:00:00",
          "2021-09-27T00:00:00",
          "2021-09-28T00:00:00",
          "2021-09-29T00:00:00",
          "2021-09-30T00:00:00",
          "2021-10-01T00:00:00",
          "2021-10-04T00:00:00",
          "2021-10-05T00:00:00",
          "2021-10-06T00:00:00",
          "2021-10-07T00:00:00",
          "2021-10-08T00:00:00",
          "2021-10-11T00:00:00",
          "2021-10-13T00:00:00",
          "2021-10-14T00:00:00",
          "2021-10-15T00:00:00",
          "2021-10-18T00:00:00",
          "2021-10-19T00:00:00",
          "2021-10-20T00:00:00",
          "2021-10-21T00:00:00",
          "2021-10-22T00:00:00",
          "2021-10-25T00:00:00",
          "2021-10-26T00:00:00",
          "2021-10-27T00:00:00",
          "2021-10-28T00:00:00",
          "2021-10-29T00:00:00",
          "2021-11-01T00:00:00",
          "2021-11-03T00:00:00",
          "2021-11-04T00:00:00",
          "2021-11-05T00:00:00",
          "2021-11-08T00:00:00",
          "2021-11-09T00:00:00",
          "2021-11-10T00:00:00",
          "2021-11-11T00:00:00",
          "2021-11-12T00:00:00",
          "2021-11-16T00:00:00",
          "2021-11-17T00:00:00",
          "2021-11-18T00:00:00",
          "2021-11-19T00:00:00",
          "2021-11-22T00:00:00",
          "2021-11-23T00:00:00",
          "2021-11-24T00:00:00",
          "2021-11-25T00:00:00",
          "2021-11-26T00:00:00",
          "2021-11-29T00:00:00",
          "2021-11-30T00:00:00",
          "2021-12-01T00:00:00",
          "2021-12-02T00:00:00",
          "2021-12-03T00:00:00",
          "2021-12-06T00:00:00",
          "2021-12-07T00:00:00",
          "2021-12-08T00:00:00",
          "2021-12-09T00:00:00",
          "2021-12-10T00:00:00",
          "2021-12-13T00:00:00",
          "2021-12-14T00:00:00",
          "2021-12-15T00:00:00",
          "2021-12-16T00:00:00",
          "2021-12-17T00:00:00",
          "2021-12-20T00:00:00",
          "2021-12-21T00:00:00",
          "2021-12-22T00:00:00",
          "2021-12-23T00:00:00",
          "2021-12-27T00:00:00",
          "2021-12-28T00:00:00",
          "2021-12-29T00:00:00",
          "2021-12-30T00:00:00"
         ],
         "y": [
          14.96000003814697,
          14.75800037384033,
          14.59000015258789,
          14.80599975585938,
          14.89000034332275,
          15.56999969482422,
          15.30000019073486,
          15.89599990844727,
          15.60000038146973,
          14.85599994659424,
          14.56799983978271,
          14.69999980926514,
          14.16199970245361,
          14.85599994659424,
          14.39999961853027,
          14.11999988555908,
          13.68000030517578,
          14.35599994659424,
          14.09799957275391,
          14.69400024414062,
          15.56599998474121,
          15.37600040435791,
          15.17599964141846,
          15.69999980926514,
          16.2180004119873,
          15.54800033569336,
          15.88599967956543,
          15.46599960327148,
          15.91800022125244,
          17.42200088500977,
          17.68199920654297,
          17.77799987792969,
          18.4379997253418,
          17.75,
          17.47200012207031,
          16.7819995880127,
          16.72200012207031,
          17.64599990844727,
          17.13400077819824,
          17.92399978637695,
          18.59799957275391,
          20.01199913024902,
          19,
          19.74600028991699,
          18.8799991607666,
          18.56999969482422,
          18.70199966430664,
          18.15999984741211,
          18.20000076293945,
          19.29999923706055,
          17.63999938964844,
          18.7859992980957,
          18.11000061035156,
          17.4060001373291,
          17.60199928283691,
          17.88199996948242,
          18.50200080871582,
          18.8799991607666,
          18.45400047302246,
          18.45599937438965,
          18.19599914550781,
          18.12400054931641,
          18.69799995422363,
          18.92000007629395,
          18.95000076293945,
          18.89800071716309,
          19.38199996948242,
          20.10000038146973,
          20.36000061035156,
          19.52000045776367,
          19.62800025939941,
          19.20000076293945,
          18.59199905395508,
          18.19400024414062,
          18.3700008392334,
          18.05999946594238,
          18.01600074768066,
          18.45400047302246,
          18.52000045776367,
          18.31599998474121,
          18.37199974060059,
          19.05200004577637,
          19.39999961853027,
          19.20000076293945,
          19.20999908447266,
          18.47999954223633,
          18.17000007629395,
          17.80999946594238,
          17.32999992370605,
          18.31999969482422,
          18.80999946594238,
          18.6299991607666,
          18.26000022888184,
          17.72999954223633,
          18.02000045776367,
          19.20000076293945,
          18.82999992370605,
          18.85000038146973,
          19.32999992370605,
          19.65999984741211,
          19.72999954223633,
          19.65999984741211,
          20.28000068664551,
          20.5,
          19.70000076293945,
          19.31999969482422,
          19,
          19.52000045776367,
          19.69000053405762,
          19.3799991607666,
          20.07999992370605,
          20.04999923706055,
          19.13999938964844,
          19,
          19.42000007629395,
          19.32999992370605,
          19.48999977111816,
          19.45000076293945,
          19.07999992370605,
          18.77000045776367,
          18.97999954223633,
          19.48999977111816,
          20.54000091552734,
          21.26000022888184,
          21.48999977111816,
          20.23999977111816,
          19.84000015258789,
          19.57999992370605,
          19.44000053405762,
          19.56999969482422,
          19.35000038146973,
          18.95000076293945,
          18.85000038146973,
          18.20000076293945,
          18.79999923706055,
          19,
          19.05999946594238,
          18.95000076293945,
          18.75,
          17.95000076293945,
          18,
          18.3799991607666,
          17.85000038146973,
          17.59000015258789,
          17.89999961853027,
          17.29999923706055,
          17.27000045776367,
          17.46999931335449,
          17.57999992370605,
          18.71999931335449,
          18.29999923706055,
          17.75,
          17.42000007629395,
          16.77000045776367,
          16.75,
          17.28000068664551,
          18.10000038146973,
          18.03000068664551,
          18.68000030517578,
          19.07999992370605,
          18.92000007629395,
          18.05999946594238,
          19.39999961853027,
          19.29999923706055,
          19.17000007629395,
          18.6299991607666,
          18.77000045776367,
          18.14999961853027,
          18.53000068664551,
          18.26000022888184,
          19.78000068664551,
          19.10000038146973,
          19.52000045776367,
          19.6299991607666,
          21.09000015258789,
          20.88999938964844,
          20.06999969482422,
          18.93000030517578,
          19.26000022888184,
          20.70000076293945,
          21.17000007629395,
          21.98999977111816,
          23.11000061035156,
          21.93000030517578,
          22.85000038146973,
          25.02000045776367,
          26.35000038146973,
          26.05999946594238,
          26.20000076293945,
          26.25,
          26.70000076293945,
          27.02000045776367,
          27.79000091552734,
          26.95000076293945,
          28.14999961853027,
          27.73999977111816,
          27.15999984741211,
          26.77000045776367,
          26.86000061035156,
          26.29000091552734,
          26.47999954223633,
          27.42000007629395,
          27.14999961853027,
          25.35000038146973,
          23.51000022888184,
          23.46999931335449,
          23.39999961853027,
          23.79999923706055,
          23.38999938964844,
          27.56999969482422,
          27.76000022888184,
          26.5,
          25.70999908447266,
          25.67000007629395,
          24.36000061035156,
          23.51000022888184,
          23.05999946594238,
          22.04000091552734,
          21.45999908447266,
          21.53000068664551,
          22.67000007629395,
          21.89999961853027,
          22.07999992370605,
          20.14999961853027,
          20.84000015258789,
          20.29000091552734,
          20.30999946594238,
          20.95999908447266,
          21.20999908447266,
          21.61000061035156,
          21.93000030517578,
          20.96999931335449,
          20.73999977111816,
          20.70000076293945,
          20.38999938964844,
          19.70000076293945,
          19.89999961853027,
          20.02000045776367,
          20.29999923706055,
          19.11000061035156,
          19.6299991607666,
          19.8700008392334,
          19.70000076293945,
          20.65999984741211,
          20.04999923706055,
          20.04999923706055,
          20.67000007629395
         ]
        }
       ],
       "layout": {
        "height": 400,
        "template": {
         "data": {
          "bar": [
           {
            "error_x": {
             "color": "rgb(36,36,36)"
            },
            "error_y": {
             "color": "rgb(36,36,36)"
            },
            "marker": {
             "line": {
              "color": "white",
              "width": 0.5
             },
             "pattern": {
              "fillmode": "overlay",
              "size": 10,
              "solidity": 0.2
             }
            },
            "type": "bar"
           }
          ],
          "barpolar": [
           {
            "marker": {
             "line": {
              "color": "white",
              "width": 0.5
             },
             "pattern": {
              "fillmode": "overlay",
              "size": 10,
              "solidity": 0.2
             }
            },
            "type": "barpolar"
           }
          ],
          "carpet": [
           {
            "aaxis": {
             "endlinecolor": "rgb(36,36,36)",
             "gridcolor": "white",
             "linecolor": "white",
             "minorgridcolor": "white",
             "startlinecolor": "rgb(36,36,36)"
            },
            "baxis": {
             "endlinecolor": "rgb(36,36,36)",
             "gridcolor": "white",
             "linecolor": "white",
             "minorgridcolor": "white",
             "startlinecolor": "rgb(36,36,36)"
            },
            "type": "carpet"
           }
          ],
          "choropleth": [
           {
            "colorbar": {
             "outlinewidth": 1,
             "tickcolor": "rgb(36,36,36)",
             "ticks": "outside"
            },
            "type": "choropleth"
           }
          ],
          "contour": [
           {
            "colorbar": {
             "outlinewidth": 1,
             "tickcolor": "rgb(36,36,36)",
             "ticks": "outside"
            },
            "colorscale": [
             [
              0,
              "#440154"
             ],
             [
              0.1111111111111111,
              "#482878"
             ],
             [
              0.2222222222222222,
              "#3e4989"
             ],
             [
              0.3333333333333333,
              "#31688e"
             ],
             [
              0.4444444444444444,
              "#26828e"
             ],
             [
              0.5555555555555556,
              "#1f9e89"
             ],
             [
              0.6666666666666666,
              "#35b779"
             ],
             [
              0.7777777777777778,
              "#6ece58"
             ],
             [
              0.8888888888888888,
              "#b5de2b"
             ],
             [
              1,
              "#fde725"
             ]
            ],
            "type": "contour"
           }
          ],
          "contourcarpet": [
           {
            "colorbar": {
             "outlinewidth": 1,
             "tickcolor": "rgb(36,36,36)",
             "ticks": "outside"
            },
            "type": "contourcarpet"
           }
          ],
          "heatmap": [
           {
            "colorbar": {
             "outlinewidth": 1,
             "tickcolor": "rgb(36,36,36)",
             "ticks": "outside"
            },
            "colorscale": [
             [
              0,
              "#440154"
             ],
             [
              0.1111111111111111,
              "#482878"
             ],
             [
              0.2222222222222222,
              "#3e4989"
             ],
             [
              0.3333333333333333,
              "#31688e"
             ],
             [
              0.4444444444444444,
              "#26828e"
             ],
             [
              0.5555555555555556,
              "#1f9e89"
             ],
             [
              0.6666666666666666,
              "#35b779"
             ],
             [
              0.7777777777777778,
              "#6ece58"
             ],
             [
              0.8888888888888888,
              "#b5de2b"
             ],
             [
              1,
              "#fde725"
             ]
            ],
            "type": "heatmap"
           }
          ],
          "heatmapgl": [
           {
            "colorbar": {
             "outlinewidth": 1,
             "tickcolor": "rgb(36,36,36)",
             "ticks": "outside"
            },
            "colorscale": [
             [
              0,
              "#440154"
             ],
             [
              0.1111111111111111,
              "#482878"
             ],
             [
              0.2222222222222222,
              "#3e4989"
             ],
             [
              0.3333333333333333,
              "#31688e"
             ],
             [
              0.4444444444444444,
              "#26828e"
             ],
             [
              0.5555555555555556,
              "#1f9e89"
             ],
             [
              0.6666666666666666,
              "#35b779"
             ],
             [
              0.7777777777777778,
              "#6ece58"
             ],
             [
              0.8888888888888888,
              "#b5de2b"
             ],
             [
              1,
              "#fde725"
             ]
            ],
            "type": "heatmapgl"
           }
          ],
          "histogram": [
           {
            "marker": {
             "line": {
              "color": "white",
              "width": 0.6
             }
            },
            "type": "histogram"
           }
          ],
          "histogram2d": [
           {
            "colorbar": {
             "outlinewidth": 1,
             "tickcolor": "rgb(36,36,36)",
             "ticks": "outside"
            },
            "colorscale": [
             [
              0,
              "#440154"
             ],
             [
              0.1111111111111111,
              "#482878"
             ],
             [
              0.2222222222222222,
              "#3e4989"
             ],
             [
              0.3333333333333333,
              "#31688e"
             ],
             [
              0.4444444444444444,
              "#26828e"
             ],
             [
              0.5555555555555556,
              "#1f9e89"
             ],
             [
              0.6666666666666666,
              "#35b779"
             ],
             [
              0.7777777777777778,
              "#6ece58"
             ],
             [
              0.8888888888888888,
              "#b5de2b"
             ],
             [
              1,
              "#fde725"
             ]
            ],
            "type": "histogram2d"
           }
          ],
          "histogram2dcontour": [
           {
            "colorbar": {
             "outlinewidth": 1,
             "tickcolor": "rgb(36,36,36)",
             "ticks": "outside"
            },
            "colorscale": [
             [
              0,
              "#440154"
             ],
             [
              0.1111111111111111,
              "#482878"
             ],
             [
              0.2222222222222222,
              "#3e4989"
             ],
             [
              0.3333333333333333,
              "#31688e"
             ],
             [
              0.4444444444444444,
              "#26828e"
             ],
             [
              0.5555555555555556,
              "#1f9e89"
             ],
             [
              0.6666666666666666,
              "#35b779"
             ],
             [
              0.7777777777777778,
              "#6ece58"
             ],
             [
              0.8888888888888888,
              "#b5de2b"
             ],
             [
              1,
              "#fde725"
             ]
            ],
            "type": "histogram2dcontour"
           }
          ],
          "mesh3d": [
           {
            "colorbar": {
             "outlinewidth": 1,
             "tickcolor": "rgb(36,36,36)",
             "ticks": "outside"
            },
            "type": "mesh3d"
           }
          ],
          "parcoords": [
           {
            "line": {
             "colorbar": {
              "outlinewidth": 1,
              "tickcolor": "rgb(36,36,36)",
              "ticks": "outside"
             }
            },
            "type": "parcoords"
           }
          ],
          "pie": [
           {
            "automargin": true,
            "type": "pie"
           }
          ],
          "scatter": [
           {
            "fillpattern": {
             "fillmode": "overlay",
             "size": 10,
             "solidity": 0.2
            },
            "type": "scatter"
           }
          ],
          "scatter3d": [
           {
            "line": {
             "colorbar": {
              "outlinewidth": 1,
              "tickcolor": "rgb(36,36,36)",
              "ticks": "outside"
             }
            },
            "marker": {
             "colorbar": {
              "outlinewidth": 1,
              "tickcolor": "rgb(36,36,36)",
              "ticks": "outside"
             }
            },
            "type": "scatter3d"
           }
          ],
          "scattercarpet": [
           {
            "marker": {
             "colorbar": {
              "outlinewidth": 1,
              "tickcolor": "rgb(36,36,36)",
              "ticks": "outside"
             }
            },
            "type": "scattercarpet"
           }
          ],
          "scattergeo": [
           {
            "marker": {
             "colorbar": {
              "outlinewidth": 1,
              "tickcolor": "rgb(36,36,36)",
              "ticks": "outside"
             }
            },
            "type": "scattergeo"
           }
          ],
          "scattergl": [
           {
            "marker": {
             "colorbar": {
              "outlinewidth": 1,
              "tickcolor": "rgb(36,36,36)",
              "ticks": "outside"
             }
            },
            "type": "scattergl"
           }
          ],
          "scattermapbox": [
           {
            "marker": {
             "colorbar": {
              "outlinewidth": 1,
              "tickcolor": "rgb(36,36,36)",
              "ticks": "outside"
             }
            },
            "type": "scattermapbox"
           }
          ],
          "scatterpolar": [
           {
            "marker": {
             "colorbar": {
              "outlinewidth": 1,
              "tickcolor": "rgb(36,36,36)",
              "ticks": "outside"
             }
            },
            "type": "scatterpolar"
           }
          ],
          "scatterpolargl": [
           {
            "marker": {
             "colorbar": {
              "outlinewidth": 1,
              "tickcolor": "rgb(36,36,36)",
              "ticks": "outside"
             }
            },
            "type": "scatterpolargl"
           }
          ],
          "scatterternary": [
           {
            "marker": {
             "colorbar": {
              "outlinewidth": 1,
              "tickcolor": "rgb(36,36,36)",
              "ticks": "outside"
             }
            },
            "type": "scatterternary"
           }
          ],
          "surface": [
           {
            "colorbar": {
             "outlinewidth": 1,
             "tickcolor": "rgb(36,36,36)",
             "ticks": "outside"
            },
            "colorscale": [
             [
              0,
              "#440154"
             ],
             [
              0.1111111111111111,
              "#482878"
             ],
             [
              0.2222222222222222,
              "#3e4989"
             ],
             [
              0.3333333333333333,
              "#31688e"
             ],
             [
              0.4444444444444444,
              "#26828e"
             ],
             [
              0.5555555555555556,
              "#1f9e89"
             ],
             [
              0.6666666666666666,
              "#35b779"
             ],
             [
              0.7777777777777778,
              "#6ece58"
             ],
             [
              0.8888888888888888,
              "#b5de2b"
             ],
             [
              1,
              "#fde725"
             ]
            ],
            "type": "surface"
           }
          ],
          "table": [
           {
            "cells": {
             "fill": {
              "color": "rgb(237,237,237)"
             },
             "line": {
              "color": "white"
             }
            },
            "header": {
             "fill": {
              "color": "rgb(217,217,217)"
             },
             "line": {
              "color": "white"
             }
            },
            "type": "table"
           }
          ]
         },
         "layout": {
          "annotationdefaults": {
           "arrowhead": 0,
           "arrowwidth": 1
          },
          "autotypenumbers": "strict",
          "coloraxis": {
           "colorbar": {
            "outlinewidth": 1,
            "tickcolor": "rgb(36,36,36)",
            "ticks": "outside"
           }
          },
          "colorscale": {
           "diverging": [
            [
             0,
             "rgb(103,0,31)"
            ],
            [
             0.1,
             "rgb(178,24,43)"
            ],
            [
             0.2,
             "rgb(214,96,77)"
            ],
            [
             0.3,
             "rgb(244,165,130)"
            ],
            [
             0.4,
             "rgb(253,219,199)"
            ],
            [
             0.5,
             "rgb(247,247,247)"
            ],
            [
             0.6,
             "rgb(209,229,240)"
            ],
            [
             0.7,
             "rgb(146,197,222)"
            ],
            [
             0.8,
             "rgb(67,147,195)"
            ],
            [
             0.9,
             "rgb(33,102,172)"
            ],
            [
             1,
             "rgb(5,48,97)"
            ]
           ],
           "sequential": [
            [
             0,
             "#440154"
            ],
            [
             0.1111111111111111,
             "#482878"
            ],
            [
             0.2222222222222222,
             "#3e4989"
            ],
            [
             0.3333333333333333,
             "#31688e"
            ],
            [
             0.4444444444444444,
             "#26828e"
            ],
            [
             0.5555555555555556,
             "#1f9e89"
            ],
            [
             0.6666666666666666,
             "#35b779"
            ],
            [
             0.7777777777777778,
             "#6ece58"
            ],
            [
             0.8888888888888888,
             "#b5de2b"
            ],
            [
             1,
             "#fde725"
            ]
           ],
           "sequentialminus": [
            [
             0,
             "#440154"
            ],
            [
             0.1111111111111111,
             "#482878"
            ],
            [
             0.2222222222222222,
             "#3e4989"
            ],
            [
             0.3333333333333333,
             "#31688e"
            ],
            [
             0.4444444444444444,
             "#26828e"
            ],
            [
             0.5555555555555556,
             "#1f9e89"
            ],
            [
             0.6666666666666666,
             "#35b779"
            ],
            [
             0.7777777777777778,
             "#6ece58"
            ],
            [
             0.8888888888888888,
             "#b5de2b"
            ],
            [
             1,
             "#fde725"
            ]
           ]
          },
          "colorway": [
           "#1F77B4",
           "#FF7F0E",
           "#2CA02C",
           "#D62728",
           "#9467BD",
           "#8C564B",
           "#E377C2",
           "#7F7F7F",
           "#BCBD22",
           "#17BECF"
          ],
          "font": {
           "color": "rgb(36,36,36)"
          },
          "geo": {
           "bgcolor": "white",
           "lakecolor": "white",
           "landcolor": "white",
           "showlakes": true,
           "showland": true,
           "subunitcolor": "white"
          },
          "hoverlabel": {
           "align": "left"
          },
          "hovermode": "closest",
          "mapbox": {
           "style": "light"
          },
          "paper_bgcolor": "white",
          "plot_bgcolor": "white",
          "polar": {
           "angularaxis": {
            "gridcolor": "rgb(232,232,232)",
            "linecolor": "rgb(36,36,36)",
            "showgrid": false,
            "showline": true,
            "ticks": "outside"
           },
           "bgcolor": "white",
           "radialaxis": {
            "gridcolor": "rgb(232,232,232)",
            "linecolor": "rgb(36,36,36)",
            "showgrid": false,
            "showline": true,
            "ticks": "outside"
           }
          },
          "scene": {
           "xaxis": {
            "backgroundcolor": "white",
            "gridcolor": "rgb(232,232,232)",
            "gridwidth": 2,
            "linecolor": "rgb(36,36,36)",
            "showbackground": true,
            "showgrid": false,
            "showline": true,
            "ticks": "outside",
            "zeroline": false,
            "zerolinecolor": "rgb(36,36,36)"
           },
           "yaxis": {
            "backgroundcolor": "white",
            "gridcolor": "rgb(232,232,232)",
            "gridwidth": 2,
            "linecolor": "rgb(36,36,36)",
            "showbackground": true,
            "showgrid": false,
            "showline": true,
            "ticks": "outside",
            "zeroline": false,
            "zerolinecolor": "rgb(36,36,36)"
           },
           "zaxis": {
            "backgroundcolor": "white",
            "gridcolor": "rgb(232,232,232)",
            "gridwidth": 2,
            "linecolor": "rgb(36,36,36)",
            "showbackground": true,
            "showgrid": false,
            "showline": true,
            "ticks": "outside",
            "zeroline": false,
            "zerolinecolor": "rgb(36,36,36)"
           }
          },
          "shapedefaults": {
           "fillcolor": "black",
           "line": {
            "width": 0
           },
           "opacity": 0.3
          },
          "ternary": {
           "aaxis": {
            "gridcolor": "rgb(232,232,232)",
            "linecolor": "rgb(36,36,36)",
            "showgrid": false,
            "showline": true,
            "ticks": "outside"
           },
           "baxis": {
            "gridcolor": "rgb(232,232,232)",
            "linecolor": "rgb(36,36,36)",
            "showgrid": false,
            "showline": true,
            "ticks": "outside"
           },
           "bgcolor": "white",
           "caxis": {
            "gridcolor": "rgb(232,232,232)",
            "linecolor": "rgb(36,36,36)",
            "showgrid": false,
            "showline": true,
            "ticks": "outside"
           }
          },
          "title": {
           "x": 0.05
          },
          "xaxis": {
           "automargin": true,
           "gridcolor": "rgb(232,232,232)",
           "linecolor": "rgb(36,36,36)",
           "showgrid": false,
           "showline": true,
           "ticks": "outside",
           "title": {
            "standoff": 15
           },
           "zeroline": false,
           "zerolinecolor": "rgb(36,36,36)"
          },
          "yaxis": {
           "automargin": true,
           "gridcolor": "rgb(232,232,232)",
           "linecolor": "rgb(36,36,36)",
           "showgrid": false,
           "showline": true,
           "ticks": "outside",
           "title": {
            "standoff": 15
           },
           "zeroline": false,
           "zerolinecolor": "rgb(36,36,36)"
          }
         }
        },
        "title": {
         "text": "Cotação de ABEV3 e PRIO3"
        },
        "width": 700
       }
      }
     },
     "metadata": {},
     "output_type": "display_data"
    }
   ],
   "source": [
    "fig = go.Figure()\n",
    "fig.add_trace(go.Scatter(x = abev3.Data, y = abev3.Valor, name = 'ABEV3'))\n",
    "fig.add_trace(go.Scatter(x = prio3.Data, y = prio3.Valor, name = 'PRIO3'))\n",
    "fig.update_layout(title = 'Cotação de ABEV3 e PRIO3', template = 'simple_white', height = 400, width = 700)\n",
    "fig.show()"
   ]
  },
  {
   "cell_type": "code",
   "execution_count": 14,
   "metadata": {},
   "outputs": [
    {
     "data": {
      "text/html": [
       "<div>\n",
       "<style scoped>\n",
       "    .dataframe tbody tr th:only-of-type {\n",
       "        vertical-align: middle;\n",
       "    }\n",
       "\n",
       "    .dataframe tbody tr th {\n",
       "        vertical-align: top;\n",
       "    }\n",
       "\n",
       "    .dataframe thead th {\n",
       "        text-align: right;\n",
       "    }\n",
       "</style>\n",
       "<table border=\"1\" class=\"dataframe\">\n",
       "  <thead>\n",
       "    <tr style=\"text-align: right;\">\n",
       "      <th></th>\n",
       "      <th>Data</th>\n",
       "      <th>Parametro</th>\n",
       "      <th>Ativo</th>\n",
       "      <th>Valor</th>\n",
       "    </tr>\n",
       "  </thead>\n",
       "  <tbody>\n",
       "    <tr>\n",
       "      <th>0</th>\n",
       "      <td>2021-01-04</td>\n",
       "      <td>Adj Close</td>\n",
       "      <td>ABEV3.SA</td>\n",
       "      <td>14.827890</td>\n",
       "    </tr>\n",
       "    <tr>\n",
       "      <th>90</th>\n",
       "      <td>2021-01-05</td>\n",
       "      <td>Adj Close</td>\n",
       "      <td>ABEV3.SA</td>\n",
       "      <td>15.143991</td>\n",
       "    </tr>\n",
       "    <tr>\n",
       "      <th>180</th>\n",
       "      <td>2021-01-06</td>\n",
       "      <td>Adj Close</td>\n",
       "      <td>ABEV3.SA</td>\n",
       "      <td>15.450509</td>\n",
       "    </tr>\n",
       "    <tr>\n",
       "      <th>270</th>\n",
       "      <td>2021-01-07</td>\n",
       "      <td>Adj Close</td>\n",
       "      <td>ABEV3.SA</td>\n",
       "      <td>15.373879</td>\n",
       "    </tr>\n",
       "    <tr>\n",
       "      <th>360</th>\n",
       "      <td>2021-01-08</td>\n",
       "      <td>Adj Close</td>\n",
       "      <td>ABEV3.SA</td>\n",
       "      <td>15.833660</td>\n",
       "    </tr>\n",
       "  </tbody>\n",
       "</table>\n",
       "</div>"
      ],
      "text/plain": [
       "          Data  Parametro     Ativo      Valor\n",
       "0   2021-01-04  Adj Close  ABEV3.SA  14.827890\n",
       "90  2021-01-05  Adj Close  ABEV3.SA  15.143991\n",
       "180 2021-01-06  Adj Close  ABEV3.SA  15.450509\n",
       "270 2021-01-07  Adj Close  ABEV3.SA  15.373879\n",
       "360 2021-01-08  Adj Close  ABEV3.SA  15.833660"
      ]
     },
     "execution_count": 14,
     "metadata": {},
     "output_type": "execute_result"
    }
   ],
   "source": [
    "abev3.head()"
   ]
  },
  {
   "cell_type": "code",
   "execution_count": 20,
   "metadata": {},
   "outputs": [
    {
     "name": "stderr",
     "output_type": "stream",
     "text": [
      "C:\\Users\\cs376562\\AppData\\Local\\Temp\\ipykernel_10120\\3370953403.py:2: SettingWithCopyWarning:\n",
      "\n",
      "\n",
      "A value is trying to be set on a copy of a slice from a DataFrame.\n",
      "Try using .loc[row_indexer,col_indexer] = value instead\n",
      "\n",
      "See the caveats in the documentation: https://pandas.pydata.org/pandas-docs/stable/user_guide/indexing.html#returning-a-view-versus-a-copy\n",
      "\n",
      "C:\\Users\\cs376562\\AppData\\Local\\Temp\\ipykernel_10120\\3370953403.py:3: SettingWithCopyWarning:\n",
      "\n",
      "\n",
      "A value is trying to be set on a copy of a slice from a DataFrame.\n",
      "Try using .loc[row_indexer,col_indexer] = value instead\n",
      "\n",
      "See the caveats in the documentation: https://pandas.pydata.org/pandas-docs/stable/user_guide/indexing.html#returning-a-view-versus-a-copy\n",
      "\n"
     ]
    }
   ],
   "source": [
    "# pct_change é para saber a diferenca dos valores em % de uma linha com a outra\n",
    "# abev3['retornos'] = foi feito para criar uma nova coluna e adicionar os valores nela que estão após o =\n",
    "abev3['Retornos'] = abev3['Valor'].pct_change()\n",
    "prio3['Retornos'] = prio3['Valor'].pct_change()"
   ]
  },
  {
   "cell_type": "code",
   "execution_count": 22,
   "metadata": {},
   "outputs": [
    {
     "data": {
      "text/html": [
       "<div>\n",
       "<style scoped>\n",
       "    .dataframe tbody tr th:only-of-type {\n",
       "        vertical-align: middle;\n",
       "    }\n",
       "\n",
       "    .dataframe tbody tr th {\n",
       "        vertical-align: top;\n",
       "    }\n",
       "\n",
       "    .dataframe thead th {\n",
       "        text-align: right;\n",
       "    }\n",
       "</style>\n",
       "<table border=\"1\" class=\"dataframe\">\n",
       "  <thead>\n",
       "    <tr style=\"text-align: right;\">\n",
       "      <th></th>\n",
       "      <th>Data</th>\n",
       "      <th>Parametro</th>\n",
       "      <th>Ativo</th>\n",
       "      <th>Valor</th>\n",
       "      <th>Retornos</th>\n",
       "    </tr>\n",
       "  </thead>\n",
       "  <tbody>\n",
       "    <tr>\n",
       "      <th>0</th>\n",
       "      <td>2021-01-04</td>\n",
       "      <td>Adj Close</td>\n",
       "      <td>ABEV3.SA</td>\n",
       "      <td>14.827890</td>\n",
       "      <td>NaN</td>\n",
       "    </tr>\n",
       "    <tr>\n",
       "      <th>90</th>\n",
       "      <td>2021-01-05</td>\n",
       "      <td>Adj Close</td>\n",
       "      <td>ABEV3.SA</td>\n",
       "      <td>15.143991</td>\n",
       "      <td>0.021318</td>\n",
       "    </tr>\n",
       "    <tr>\n",
       "      <th>180</th>\n",
       "      <td>2021-01-06</td>\n",
       "      <td>Adj Close</td>\n",
       "      <td>ABEV3.SA</td>\n",
       "      <td>15.450509</td>\n",
       "      <td>0.020240</td>\n",
       "    </tr>\n",
       "    <tr>\n",
       "      <th>270</th>\n",
       "      <td>2021-01-07</td>\n",
       "      <td>Adj Close</td>\n",
       "      <td>ABEV3.SA</td>\n",
       "      <td>15.373879</td>\n",
       "      <td>-0.004960</td>\n",
       "    </tr>\n",
       "    <tr>\n",
       "      <th>360</th>\n",
       "      <td>2021-01-08</td>\n",
       "      <td>Adj Close</td>\n",
       "      <td>ABEV3.SA</td>\n",
       "      <td>15.833660</td>\n",
       "      <td>0.029907</td>\n",
       "    </tr>\n",
       "    <tr>\n",
       "      <th>...</th>\n",
       "      <td>...</td>\n",
       "      <td>...</td>\n",
       "      <td>...</td>\n",
       "      <td>...</td>\n",
       "      <td>...</td>\n",
       "    </tr>\n",
       "    <tr>\n",
       "      <th>21780</th>\n",
       "      <td>2021-12-23</td>\n",
       "      <td>Adj Close</td>\n",
       "      <td>ABEV3.SA</td>\n",
       "      <td>15.550000</td>\n",
       "      <td>0.010396</td>\n",
       "    </tr>\n",
       "    <tr>\n",
       "      <th>21870</th>\n",
       "      <td>2021-12-27</td>\n",
       "      <td>Adj Close</td>\n",
       "      <td>ABEV3.SA</td>\n",
       "      <td>15.530000</td>\n",
       "      <td>-0.001286</td>\n",
       "    </tr>\n",
       "    <tr>\n",
       "      <th>21960</th>\n",
       "      <td>2021-12-28</td>\n",
       "      <td>Adj Close</td>\n",
       "      <td>ABEV3.SA</td>\n",
       "      <td>15.520000</td>\n",
       "      <td>-0.000644</td>\n",
       "    </tr>\n",
       "    <tr>\n",
       "      <th>22050</th>\n",
       "      <td>2021-12-29</td>\n",
       "      <td>Adj Close</td>\n",
       "      <td>ABEV3.SA</td>\n",
       "      <td>15.450000</td>\n",
       "      <td>-0.004510</td>\n",
       "    </tr>\n",
       "    <tr>\n",
       "      <th>22140</th>\n",
       "      <td>2021-12-30</td>\n",
       "      <td>Adj Close</td>\n",
       "      <td>ABEV3.SA</td>\n",
       "      <td>15.420000</td>\n",
       "      <td>-0.001942</td>\n",
       "    </tr>\n",
       "  </tbody>\n",
       "</table>\n",
       "<p>247 rows × 5 columns</p>\n",
       "</div>"
      ],
      "text/plain": [
       "            Data  Parametro     Ativo      Valor  Retornos\n",
       "0     2021-01-04  Adj Close  ABEV3.SA  14.827890       NaN\n",
       "90    2021-01-05  Adj Close  ABEV3.SA  15.143991  0.021318\n",
       "180   2021-01-06  Adj Close  ABEV3.SA  15.450509  0.020240\n",
       "270   2021-01-07  Adj Close  ABEV3.SA  15.373879 -0.004960\n",
       "360   2021-01-08  Adj Close  ABEV3.SA  15.833660  0.029907\n",
       "...          ...        ...       ...        ...       ...\n",
       "21780 2021-12-23  Adj Close  ABEV3.SA  15.550000  0.010396\n",
       "21870 2021-12-27  Adj Close  ABEV3.SA  15.530000 -0.001286\n",
       "21960 2021-12-28  Adj Close  ABEV3.SA  15.520000 -0.000644\n",
       "22050 2021-12-29  Adj Close  ABEV3.SA  15.450000 -0.004510\n",
       "22140 2021-12-30  Adj Close  ABEV3.SA  15.420000 -0.001942\n",
       "\n",
       "[247 rows x 5 columns]"
      ]
     },
     "execution_count": 22,
     "metadata": {},
     "output_type": "execute_result"
    }
   ],
   "source": [
    "abev3\n"
   ]
  },
  {
   "cell_type": "code",
   "execution_count": 23,
   "metadata": {},
   "outputs": [
    {
     "data": {
      "text/html": [
       "<div>\n",
       "<style scoped>\n",
       "    .dataframe tbody tr th:only-of-type {\n",
       "        vertical-align: middle;\n",
       "    }\n",
       "\n",
       "    .dataframe tbody tr th {\n",
       "        vertical-align: top;\n",
       "    }\n",
       "\n",
       "    .dataframe thead th {\n",
       "        text-align: right;\n",
       "    }\n",
       "</style>\n",
       "<table border=\"1\" class=\"dataframe\">\n",
       "  <thead>\n",
       "    <tr style=\"text-align: right;\">\n",
       "      <th></th>\n",
       "      <th>Data</th>\n",
       "      <th>Parametro</th>\n",
       "      <th>Ativo</th>\n",
       "      <th>Valor</th>\n",
       "      <th>Retornos</th>\n",
       "    </tr>\n",
       "  </thead>\n",
       "  <tbody>\n",
       "    <tr>\n",
       "      <th>66</th>\n",
       "      <td>2021-01-04</td>\n",
       "      <td>Adj Close</td>\n",
       "      <td>PRIO3.SA</td>\n",
       "      <td>14.960000</td>\n",
       "      <td>NaN</td>\n",
       "    </tr>\n",
       "    <tr>\n",
       "      <th>156</th>\n",
       "      <td>2021-01-05</td>\n",
       "      <td>Adj Close</td>\n",
       "      <td>PRIO3.SA</td>\n",
       "      <td>14.758000</td>\n",
       "      <td>-0.013503</td>\n",
       "    </tr>\n",
       "    <tr>\n",
       "      <th>246</th>\n",
       "      <td>2021-01-06</td>\n",
       "      <td>Adj Close</td>\n",
       "      <td>PRIO3.SA</td>\n",
       "      <td>14.590000</td>\n",
       "      <td>-0.011384</td>\n",
       "    </tr>\n",
       "    <tr>\n",
       "      <th>336</th>\n",
       "      <td>2021-01-07</td>\n",
       "      <td>Adj Close</td>\n",
       "      <td>PRIO3.SA</td>\n",
       "      <td>14.806000</td>\n",
       "      <td>0.014805</td>\n",
       "    </tr>\n",
       "    <tr>\n",
       "      <th>426</th>\n",
       "      <td>2021-01-08</td>\n",
       "      <td>Adj Close</td>\n",
       "      <td>PRIO3.SA</td>\n",
       "      <td>14.890000</td>\n",
       "      <td>0.005673</td>\n",
       "    </tr>\n",
       "    <tr>\n",
       "      <th>...</th>\n",
       "      <td>...</td>\n",
       "      <td>...</td>\n",
       "      <td>...</td>\n",
       "      <td>...</td>\n",
       "      <td>...</td>\n",
       "    </tr>\n",
       "    <tr>\n",
       "      <th>21846</th>\n",
       "      <td>2021-12-23</td>\n",
       "      <td>Adj Close</td>\n",
       "      <td>PRIO3.SA</td>\n",
       "      <td>19.700001</td>\n",
       "      <td>-0.008556</td>\n",
       "    </tr>\n",
       "    <tr>\n",
       "      <th>21936</th>\n",
       "      <td>2021-12-27</td>\n",
       "      <td>Adj Close</td>\n",
       "      <td>PRIO3.SA</td>\n",
       "      <td>20.660000</td>\n",
       "      <td>0.048731</td>\n",
       "    </tr>\n",
       "    <tr>\n",
       "      <th>22026</th>\n",
       "      <td>2021-12-28</td>\n",
       "      <td>Adj Close</td>\n",
       "      <td>PRIO3.SA</td>\n",
       "      <td>20.049999</td>\n",
       "      <td>-0.029526</td>\n",
       "    </tr>\n",
       "    <tr>\n",
       "      <th>22116</th>\n",
       "      <td>2021-12-29</td>\n",
       "      <td>Adj Close</td>\n",
       "      <td>PRIO3.SA</td>\n",
       "      <td>20.049999</td>\n",
       "      <td>0.000000</td>\n",
       "    </tr>\n",
       "    <tr>\n",
       "      <th>22206</th>\n",
       "      <td>2021-12-30</td>\n",
       "      <td>Adj Close</td>\n",
       "      <td>PRIO3.SA</td>\n",
       "      <td>20.670000</td>\n",
       "      <td>0.030923</td>\n",
       "    </tr>\n",
       "  </tbody>\n",
       "</table>\n",
       "<p>247 rows × 5 columns</p>\n",
       "</div>"
      ],
      "text/plain": [
       "            Data  Parametro     Ativo      Valor  Retornos\n",
       "66    2021-01-04  Adj Close  PRIO3.SA  14.960000       NaN\n",
       "156   2021-01-05  Adj Close  PRIO3.SA  14.758000 -0.013503\n",
       "246   2021-01-06  Adj Close  PRIO3.SA  14.590000 -0.011384\n",
       "336   2021-01-07  Adj Close  PRIO3.SA  14.806000  0.014805\n",
       "426   2021-01-08  Adj Close  PRIO3.SA  14.890000  0.005673\n",
       "...          ...        ...       ...        ...       ...\n",
       "21846 2021-12-23  Adj Close  PRIO3.SA  19.700001 -0.008556\n",
       "21936 2021-12-27  Adj Close  PRIO3.SA  20.660000  0.048731\n",
       "22026 2021-12-28  Adj Close  PRIO3.SA  20.049999 -0.029526\n",
       "22116 2021-12-29  Adj Close  PRIO3.SA  20.049999  0.000000\n",
       "22206 2021-12-30  Adj Close  PRIO3.SA  20.670000  0.030923\n",
       "\n",
       "[247 rows x 5 columns]"
      ]
     },
     "execution_count": 23,
     "metadata": {},
     "output_type": "execute_result"
    }
   ],
   "source": [
    "prio3"
   ]
  },
  {
   "cell_type": "code",
   "execution_count": 24,
   "metadata": {},
   "outputs": [
    {
     "data": {
      "application/vnd.plotly.v1+json": {
       "config": {
        "plotlyServerURL": "https://plot.ly"
       },
       "data": [
        {
         "name": "ABEV3",
         "type": "scatter",
         "x": [
          "2021-01-04T00:00:00",
          "2021-01-05T00:00:00",
          "2021-01-06T00:00:00",
          "2021-01-07T00:00:00",
          "2021-01-08T00:00:00",
          "2021-01-11T00:00:00",
          "2021-01-12T00:00:00",
          "2021-01-13T00:00:00",
          "2021-01-14T00:00:00",
          "2021-01-15T00:00:00",
          "2021-01-18T00:00:00",
          "2021-01-19T00:00:00",
          "2021-01-20T00:00:00",
          "2021-01-21T00:00:00",
          "2021-01-22T00:00:00",
          "2021-01-26T00:00:00",
          "2021-01-27T00:00:00",
          "2021-01-28T00:00:00",
          "2021-01-29T00:00:00",
          "2021-02-01T00:00:00",
          "2021-02-02T00:00:00",
          "2021-02-03T00:00:00",
          "2021-02-04T00:00:00",
          "2021-02-05T00:00:00",
          "2021-02-08T00:00:00",
          "2021-02-09T00:00:00",
          "2021-02-10T00:00:00",
          "2021-02-11T00:00:00",
          "2021-02-12T00:00:00",
          "2021-02-17T00:00:00",
          "2021-02-18T00:00:00",
          "2021-02-19T00:00:00",
          "2021-02-22T00:00:00",
          "2021-02-23T00:00:00",
          "2021-02-24T00:00:00",
          "2021-02-25T00:00:00",
          "2021-02-26T00:00:00",
          "2021-03-01T00:00:00",
          "2021-03-02T00:00:00",
          "2021-03-03T00:00:00",
          "2021-03-04T00:00:00",
          "2021-03-05T00:00:00",
          "2021-03-08T00:00:00",
          "2021-03-09T00:00:00",
          "2021-03-10T00:00:00",
          "2021-03-11T00:00:00",
          "2021-03-12T00:00:00",
          "2021-03-15T00:00:00",
          "2021-03-16T00:00:00",
          "2021-03-17T00:00:00",
          "2021-03-18T00:00:00",
          "2021-03-19T00:00:00",
          "2021-03-22T00:00:00",
          "2021-03-23T00:00:00",
          "2021-03-24T00:00:00",
          "2021-03-25T00:00:00",
          "2021-03-26T00:00:00",
          "2021-03-29T00:00:00",
          "2021-03-30T00:00:00",
          "2021-03-31T00:00:00",
          "2021-04-01T00:00:00",
          "2021-04-05T00:00:00",
          "2021-04-06T00:00:00",
          "2021-04-07T00:00:00",
          "2021-04-08T00:00:00",
          "2021-04-09T00:00:00",
          "2021-04-12T00:00:00",
          "2021-04-13T00:00:00",
          "2021-04-14T00:00:00",
          "2021-04-15T00:00:00",
          "2021-04-16T00:00:00",
          "2021-04-19T00:00:00",
          "2021-04-20T00:00:00",
          "2021-04-22T00:00:00",
          "2021-04-23T00:00:00",
          "2021-04-26T00:00:00",
          "2021-04-27T00:00:00",
          "2021-04-28T00:00:00",
          "2021-04-29T00:00:00",
          "2021-04-30T00:00:00",
          "2021-05-03T00:00:00",
          "2021-05-04T00:00:00",
          "2021-05-05T00:00:00",
          "2021-05-06T00:00:00",
          "2021-05-07T00:00:00",
          "2021-05-10T00:00:00",
          "2021-05-11T00:00:00",
          "2021-05-12T00:00:00",
          "2021-05-13T00:00:00",
          "2021-05-14T00:00:00",
          "2021-05-17T00:00:00",
          "2021-05-18T00:00:00",
          "2021-05-19T00:00:00",
          "2021-05-20T00:00:00",
          "2021-05-21T00:00:00",
          "2021-05-24T00:00:00",
          "2021-05-25T00:00:00",
          "2021-05-26T00:00:00",
          "2021-05-27T00:00:00",
          "2021-05-28T00:00:00",
          "2021-05-31T00:00:00",
          "2021-06-01T00:00:00",
          "2021-06-02T00:00:00",
          "2021-06-04T00:00:00",
          "2021-06-07T00:00:00",
          "2021-06-08T00:00:00",
          "2021-06-09T00:00:00",
          "2021-06-10T00:00:00",
          "2021-06-11T00:00:00",
          "2021-06-14T00:00:00",
          "2021-06-15T00:00:00",
          "2021-06-16T00:00:00",
          "2021-06-17T00:00:00",
          "2021-06-18T00:00:00",
          "2021-06-21T00:00:00",
          "2021-06-22T00:00:00",
          "2021-06-23T00:00:00",
          "2021-06-24T00:00:00",
          "2021-06-25T00:00:00",
          "2021-06-28T00:00:00",
          "2021-06-29T00:00:00",
          "2021-06-30T00:00:00",
          "2021-07-01T00:00:00",
          "2021-07-02T00:00:00",
          "2021-07-05T00:00:00",
          "2021-07-06T00:00:00",
          "2021-07-07T00:00:00",
          "2021-07-08T00:00:00",
          "2021-07-12T00:00:00",
          "2021-07-13T00:00:00",
          "2021-07-14T00:00:00",
          "2021-07-15T00:00:00",
          "2021-07-16T00:00:00",
          "2021-07-19T00:00:00",
          "2021-07-20T00:00:00",
          "2021-07-21T00:00:00",
          "2021-07-22T00:00:00",
          "2021-07-23T00:00:00",
          "2021-07-26T00:00:00",
          "2021-07-27T00:00:00",
          "2021-07-28T00:00:00",
          "2021-07-29T00:00:00",
          "2021-07-30T00:00:00",
          "2021-08-02T00:00:00",
          "2021-08-03T00:00:00",
          "2021-08-04T00:00:00",
          "2021-08-05T00:00:00",
          "2021-08-06T00:00:00",
          "2021-08-09T00:00:00",
          "2021-08-10T00:00:00",
          "2021-08-11T00:00:00",
          "2021-08-12T00:00:00",
          "2021-08-13T00:00:00",
          "2021-08-16T00:00:00",
          "2021-08-17T00:00:00",
          "2021-08-18T00:00:00",
          "2021-08-19T00:00:00",
          "2021-08-20T00:00:00",
          "2021-08-23T00:00:00",
          "2021-08-24T00:00:00",
          "2021-08-25T00:00:00",
          "2021-08-26T00:00:00",
          "2021-08-27T00:00:00",
          "2021-08-30T00:00:00",
          "2021-08-31T00:00:00",
          "2021-09-01T00:00:00",
          "2021-09-02T00:00:00",
          "2021-09-03T00:00:00",
          "2021-09-06T00:00:00",
          "2021-09-08T00:00:00",
          "2021-09-09T00:00:00",
          "2021-09-10T00:00:00",
          "2021-09-13T00:00:00",
          "2021-09-14T00:00:00",
          "2021-09-15T00:00:00",
          "2021-09-16T00:00:00",
          "2021-09-17T00:00:00",
          "2021-09-20T00:00:00",
          "2021-09-21T00:00:00",
          "2021-09-22T00:00:00",
          "2021-09-23T00:00:00",
          "2021-09-24T00:00:00",
          "2021-09-27T00:00:00",
          "2021-09-28T00:00:00",
          "2021-09-29T00:00:00",
          "2021-09-30T00:00:00",
          "2021-10-01T00:00:00",
          "2021-10-04T00:00:00",
          "2021-10-05T00:00:00",
          "2021-10-06T00:00:00",
          "2021-10-07T00:00:00",
          "2021-10-08T00:00:00",
          "2021-10-11T00:00:00",
          "2021-10-13T00:00:00",
          "2021-10-14T00:00:00",
          "2021-10-15T00:00:00",
          "2021-10-18T00:00:00",
          "2021-10-19T00:00:00",
          "2021-10-20T00:00:00",
          "2021-10-21T00:00:00",
          "2021-10-22T00:00:00",
          "2021-10-25T00:00:00",
          "2021-10-26T00:00:00",
          "2021-10-27T00:00:00",
          "2021-10-28T00:00:00",
          "2021-10-29T00:00:00",
          "2021-11-01T00:00:00",
          "2021-11-03T00:00:00",
          "2021-11-04T00:00:00",
          "2021-11-05T00:00:00",
          "2021-11-08T00:00:00",
          "2021-11-09T00:00:00",
          "2021-11-10T00:00:00",
          "2021-11-11T00:00:00",
          "2021-11-12T00:00:00",
          "2021-11-16T00:00:00",
          "2021-11-17T00:00:00",
          "2021-11-18T00:00:00",
          "2021-11-19T00:00:00",
          "2021-11-22T00:00:00",
          "2021-11-23T00:00:00",
          "2021-11-24T00:00:00",
          "2021-11-25T00:00:00",
          "2021-11-26T00:00:00",
          "2021-11-29T00:00:00",
          "2021-11-30T00:00:00",
          "2021-12-01T00:00:00",
          "2021-12-02T00:00:00",
          "2021-12-03T00:00:00",
          "2021-12-06T00:00:00",
          "2021-12-07T00:00:00",
          "2021-12-08T00:00:00",
          "2021-12-09T00:00:00",
          "2021-12-10T00:00:00",
          "2021-12-13T00:00:00",
          "2021-12-14T00:00:00",
          "2021-12-15T00:00:00",
          "2021-12-16T00:00:00",
          "2021-12-17T00:00:00",
          "2021-12-20T00:00:00",
          "2021-12-21T00:00:00",
          "2021-12-22T00:00:00",
          "2021-12-23T00:00:00",
          "2021-12-27T00:00:00",
          "2021-12-28T00:00:00",
          "2021-12-29T00:00:00",
          "2021-12-30T00:00:00"
         ],
         "y": [
          null,
          0.021317942883310792,
          0.020240276454891015,
          -0.004959683743623211,
          0.029906614987294855,
          -0.02601338955197685,
          0.043478282378947686,
          -0.03749997629486923,
          0.010358341527509474,
          -0.019065243047265312,
          0.016927868955117775,
          0.003082703583764612,
          -0.015365722315870634,
          -0.025593057465110425,
          -0.029468306881272555,
          0.016501671535123164,
          0,
          0.00909092839401926,
          -0.02767052668575476,
          0.032428890477931294,
          0.0006409679855199357,
          0.004484346207726642,
          -0.005102024372806824,
          -0.005128188515601817,
          -0.037371219834509195,
          0.0013387667520774471,
          0.003342210303246329,
          -0.003997305774581794,
          -0.010702372747806166,
          0.03245439095222902,
          -0.03143421272323366,
          0.006761387279627051,
          -0.020819398555292468,
          0.007544582877219819,
          -0.0006806739852888155,
          -0.03269764313964263,
          -0.012675963755088504,
          -0.017831690267516076,
          0.01597669120487888,
          0.012866380736077154,
          0.04304866920699779,
          0.020297684897242707,
          -0.02586204404138226,
          0.03199457781214665,
          0.007255937710221261,
          -0.011787797325471527,
          -0.003976179433436422,
          0.017964104622736787,
          -0.0163398889642965,
          0.024584679241372864,
          -0.0077820441582264754,
          0.01960782789860893,
          -0.0038461890257845965,
          -0.02960104634216376,
          -0.018567612938801825,
          0.01283782168787484,
          0.010673748389468551,
          0.009901081407649004,
          0.01895422715889783,
          -0.019243089999519736,
          -0.01896668856481687,
          0.01800003316188481,
          0.007858553180808636,
          -0.01104617045959555,
          0.015111703650346753,
          -0.005825232008446424,
          0.00976564994771345,
          0.007736950703684409,
          0.011516293119691046,
          0.003795038465573386,
          -0.004410816105562931,
          -0.004430420312954597,
          -0.006993008314555738,
          0.017925774249330395,
          -0.003144620576184698,
          -0.01640381018017767,
          -0.019243089999519736,
          -0.005232225704280502,
          0.0032873411761762394,
          -0.020969917957830764,
          -0.00937077034104683,
          -0.010810776068033712,
          0.015027256662181188,
          0.08882915524572499,
          0.0018540353501350637,
          0.017890234116660242,
          0.02242426830210853,
          0,
          0.0005927736591406774,
          0.01777255719647708,
          0.012805473881551066,
          0.001149435891443451,
          0.008036813438283552,
          -0.0011389625757345367,
          0.003990914517349564,
          0.001135616157012409,
          -0.0011343279958129227,
          -0.007950100861755627,
          0.01259301887256914,
          0.009044741086220442,
          0.005602180874756391,
          0.04568242824968993,
          0.0319659855003378,
          0.000516164650077755,
          0.011352013660211213,
          -0.0005103098360270675,
          -0.014293037052114044,
          0.0005178711738493824,
          -0.0196686109095473,
          0.028511033283642018,
          -0.017967208565058623,
          -0.0020908722955954584,
          -0.004190714030482767,
          -0.013150989568988525,
          -0.0015991618186326217,
          -0.02349162333030863,
          -0.01640244662234991,
          -0.002223477806146734,
          -0.05571026488914621,
          0.032448322742763214,
          -0.011999996829142101,
          -0.01272412004235468,
          0.0076157699075734,
          0.013372099521133718,
          0.029259821777995132,
          -0.021739219289029332,
          0.012535728610712615,
          -0.023072582210098336,
          0.017281035496798047,
          0.00792748054853476,
          0.006179832387661399,
          -0.016191998873999913,
          -0.010783186673312017,
          -0.024096491022612354,
          0.0011759062826106614,
          0.009982358266827696,
          -0.009883695675593662,
          -0.01644160656142135,
          0.02029845575701672,
          -0.009947312789940543,
          0.024231665611353925,
          -0.011540786479668608,
          -0.028604704595869945,
          0.013221155993348166,
          0.012455512667796764,
          -0.025776219799678257,
          -0.0006012688435007574,
          0.028880831772915005,
          0.0035088040548039157,
          -0.02622389999049568,
          -0.008378175542363975,
          0.000603565659966554,
          0.004221933002609424,
          -0.0150150336016861,
          -0.0048780331596289805,
          0.009191139304066676,
          0.043715948582099484,
          0.020360629675253428,
          -0.010262238629390574,
          0.013248854765236073,
          -0.0005685100204115834,
          -0.026734944712346054,
          -0.004091096360776314,
          0.00821592067088539,
          -0.004656619850918697,
          0.009356694918898345,
          -0.04287363094874519,
          0.002421209618715281,
          0.03804358947877451,
          -0.057010005193685376,
          0.006169088404711864,
          -0.012875533090995095,
          0.015527969615406478,
          0.00550457692538231,
          -0.0255474382162576,
          0.006866356129148654,
          -0.02417852635965767,
          -0.008259225156947103,
          0.0032031044340905535,
          0.003831452777528055,
          0.010178084007675281,
          -0.002518852393702864,
          -0.0006313814536118567,
          -0.024636741948869445,
          0.0032383075111801496,
          -0.012265899130802782,
          -0.0019608022191341945,
          -0.015062221522259445,
          0.009308530000436743,
          -0.00527007511203359,
          -0.0013245810147149983,
          0.018567678647885888,
          -0.007812507055919293,
          0.017716567814691775,
          -0.0012895663191981876,
          0.0025823349558646846,
          0.005795224470117821,
          -0.030729799025715043,
          0.017833520560177618,
          -0.017521058404878276,
          -0.009247047021208266,
          0.01800003316188481,
          -0.0072036683414506975,
          0.003957754495424792,
          0.09724051934510158,
          0.017365190797915542,
          0.021777600219291537,
          0.027073637499406278,
          0.0028042883493100135,
          0.0011185785230038992,
          -0.008938518910610704,
          0.00845543361229506,
          -0.00782556207005669,
          -0.007887284504511483,
          -0.005678643472682543,
          0,
          0.0017133223888043947,
          0.003420783872013944,
          -0.011931927008576482,
          -0.0040252250933997535,
          -0.006928355465564029,
          -0.005814006409233463,
          0.00760229289149672,
          -0.03134062817669525,
          -0.020970654726713223,
          -0.01713589854129527,
          -0.012453291211538486,
          0.009457779743736072,
          -0.0006246153404337873,
          0.004999983897989724,
          0.0012437925146537854,
          -0.001242247416615716,
          -0.016791014079738598,
          0.008855110644696795,
          0.0037617900733271092,
          0.009993783554816726,
          -0.0055659135288136374,
          0.0012437925146537854,
          -0.0018633711249235185,
          -0.0029999947588110754,
          -0.001297046541162361,
          -0.000649303600987583,
          0.01039635112688786,
          -0.001286203055842261,
          -0.0006438683438152459,
          -0.0045103509300163935,
          -0.0019417303133686392
         ]
        },
        {
         "name": "PRIO3",
         "type": "scatter",
         "x": [
          "2021-01-04T00:00:00",
          "2021-01-05T00:00:00",
          "2021-01-06T00:00:00",
          "2021-01-07T00:00:00",
          "2021-01-08T00:00:00",
          "2021-01-11T00:00:00",
          "2021-01-12T00:00:00",
          "2021-01-13T00:00:00",
          "2021-01-14T00:00:00",
          "2021-01-15T00:00:00",
          "2021-01-18T00:00:00",
          "2021-01-19T00:00:00",
          "2021-01-20T00:00:00",
          "2021-01-21T00:00:00",
          "2021-01-22T00:00:00",
          "2021-01-26T00:00:00",
          "2021-01-27T00:00:00",
          "2021-01-28T00:00:00",
          "2021-01-29T00:00:00",
          "2021-02-01T00:00:00",
          "2021-02-02T00:00:00",
          "2021-02-03T00:00:00",
          "2021-02-04T00:00:00",
          "2021-02-05T00:00:00",
          "2021-02-08T00:00:00",
          "2021-02-09T00:00:00",
          "2021-02-10T00:00:00",
          "2021-02-11T00:00:00",
          "2021-02-12T00:00:00",
          "2021-02-17T00:00:00",
          "2021-02-18T00:00:00",
          "2021-02-19T00:00:00",
          "2021-02-22T00:00:00",
          "2021-02-23T00:00:00",
          "2021-02-24T00:00:00",
          "2021-02-25T00:00:00",
          "2021-02-26T00:00:00",
          "2021-03-01T00:00:00",
          "2021-03-02T00:00:00",
          "2021-03-03T00:00:00",
          "2021-03-04T00:00:00",
          "2021-03-05T00:00:00",
          "2021-03-08T00:00:00",
          "2021-03-09T00:00:00",
          "2021-03-10T00:00:00",
          "2021-03-11T00:00:00",
          "2021-03-12T00:00:00",
          "2021-03-15T00:00:00",
          "2021-03-16T00:00:00",
          "2021-03-17T00:00:00",
          "2021-03-18T00:00:00",
          "2021-03-19T00:00:00",
          "2021-03-22T00:00:00",
          "2021-03-23T00:00:00",
          "2021-03-24T00:00:00",
          "2021-03-25T00:00:00",
          "2021-03-26T00:00:00",
          "2021-03-29T00:00:00",
          "2021-03-30T00:00:00",
          "2021-03-31T00:00:00",
          "2021-04-01T00:00:00",
          "2021-04-05T00:00:00",
          "2021-04-06T00:00:00",
          "2021-04-07T00:00:00",
          "2021-04-08T00:00:00",
          "2021-04-09T00:00:00",
          "2021-04-12T00:00:00",
          "2021-04-13T00:00:00",
          "2021-04-14T00:00:00",
          "2021-04-15T00:00:00",
          "2021-04-16T00:00:00",
          "2021-04-19T00:00:00",
          "2021-04-20T00:00:00",
          "2021-04-22T00:00:00",
          "2021-04-23T00:00:00",
          "2021-04-26T00:00:00",
          "2021-04-27T00:00:00",
          "2021-04-28T00:00:00",
          "2021-04-29T00:00:00",
          "2021-04-30T00:00:00",
          "2021-05-03T00:00:00",
          "2021-05-04T00:00:00",
          "2021-05-05T00:00:00",
          "2021-05-06T00:00:00",
          "2021-05-07T00:00:00",
          "2021-05-10T00:00:00",
          "2021-05-11T00:00:00",
          "2021-05-12T00:00:00",
          "2021-05-13T00:00:00",
          "2021-05-14T00:00:00",
          "2021-05-17T00:00:00",
          "2021-05-18T00:00:00",
          "2021-05-19T00:00:00",
          "2021-05-20T00:00:00",
          "2021-05-21T00:00:00",
          "2021-05-24T00:00:00",
          "2021-05-25T00:00:00",
          "2021-05-26T00:00:00",
          "2021-05-27T00:00:00",
          "2021-05-28T00:00:00",
          "2021-05-31T00:00:00",
          "2021-06-01T00:00:00",
          "2021-06-02T00:00:00",
          "2021-06-04T00:00:00",
          "2021-06-07T00:00:00",
          "2021-06-08T00:00:00",
          "2021-06-09T00:00:00",
          "2021-06-10T00:00:00",
          "2021-06-11T00:00:00",
          "2021-06-14T00:00:00",
          "2021-06-15T00:00:00",
          "2021-06-16T00:00:00",
          "2021-06-17T00:00:00",
          "2021-06-18T00:00:00",
          "2021-06-21T00:00:00",
          "2021-06-22T00:00:00",
          "2021-06-23T00:00:00",
          "2021-06-24T00:00:00",
          "2021-06-25T00:00:00",
          "2021-06-28T00:00:00",
          "2021-06-29T00:00:00",
          "2021-06-30T00:00:00",
          "2021-07-01T00:00:00",
          "2021-07-02T00:00:00",
          "2021-07-05T00:00:00",
          "2021-07-06T00:00:00",
          "2021-07-07T00:00:00",
          "2021-07-08T00:00:00",
          "2021-07-12T00:00:00",
          "2021-07-13T00:00:00",
          "2021-07-14T00:00:00",
          "2021-07-15T00:00:00",
          "2021-07-16T00:00:00",
          "2021-07-19T00:00:00",
          "2021-07-20T00:00:00",
          "2021-07-21T00:00:00",
          "2021-07-22T00:00:00",
          "2021-07-23T00:00:00",
          "2021-07-26T00:00:00",
          "2021-07-27T00:00:00",
          "2021-07-28T00:00:00",
          "2021-07-29T00:00:00",
          "2021-07-30T00:00:00",
          "2021-08-02T00:00:00",
          "2021-08-03T00:00:00",
          "2021-08-04T00:00:00",
          "2021-08-05T00:00:00",
          "2021-08-06T00:00:00",
          "2021-08-09T00:00:00",
          "2021-08-10T00:00:00",
          "2021-08-11T00:00:00",
          "2021-08-12T00:00:00",
          "2021-08-13T00:00:00",
          "2021-08-16T00:00:00",
          "2021-08-17T00:00:00",
          "2021-08-18T00:00:00",
          "2021-08-19T00:00:00",
          "2021-08-20T00:00:00",
          "2021-08-23T00:00:00",
          "2021-08-24T00:00:00",
          "2021-08-25T00:00:00",
          "2021-08-26T00:00:00",
          "2021-08-27T00:00:00",
          "2021-08-30T00:00:00",
          "2021-08-31T00:00:00",
          "2021-09-01T00:00:00",
          "2021-09-02T00:00:00",
          "2021-09-03T00:00:00",
          "2021-09-06T00:00:00",
          "2021-09-08T00:00:00",
          "2021-09-09T00:00:00",
          "2021-09-10T00:00:00",
          "2021-09-13T00:00:00",
          "2021-09-14T00:00:00",
          "2021-09-15T00:00:00",
          "2021-09-16T00:00:00",
          "2021-09-17T00:00:00",
          "2021-09-20T00:00:00",
          "2021-09-21T00:00:00",
          "2021-09-22T00:00:00",
          "2021-09-23T00:00:00",
          "2021-09-24T00:00:00",
          "2021-09-27T00:00:00",
          "2021-09-28T00:00:00",
          "2021-09-29T00:00:00",
          "2021-09-30T00:00:00",
          "2021-10-01T00:00:00",
          "2021-10-04T00:00:00",
          "2021-10-05T00:00:00",
          "2021-10-06T00:00:00",
          "2021-10-07T00:00:00",
          "2021-10-08T00:00:00",
          "2021-10-11T00:00:00",
          "2021-10-13T00:00:00",
          "2021-10-14T00:00:00",
          "2021-10-15T00:00:00",
          "2021-10-18T00:00:00",
          "2021-10-19T00:00:00",
          "2021-10-20T00:00:00",
          "2021-10-21T00:00:00",
          "2021-10-22T00:00:00",
          "2021-10-25T00:00:00",
          "2021-10-26T00:00:00",
          "2021-10-27T00:00:00",
          "2021-10-28T00:00:00",
          "2021-10-29T00:00:00",
          "2021-11-01T00:00:00",
          "2021-11-03T00:00:00",
          "2021-11-04T00:00:00",
          "2021-11-05T00:00:00",
          "2021-11-08T00:00:00",
          "2021-11-09T00:00:00",
          "2021-11-10T00:00:00",
          "2021-11-11T00:00:00",
          "2021-11-12T00:00:00",
          "2021-11-16T00:00:00",
          "2021-11-17T00:00:00",
          "2021-11-18T00:00:00",
          "2021-11-19T00:00:00",
          "2021-11-22T00:00:00",
          "2021-11-23T00:00:00",
          "2021-11-24T00:00:00",
          "2021-11-25T00:00:00",
          "2021-11-26T00:00:00",
          "2021-11-29T00:00:00",
          "2021-11-30T00:00:00",
          "2021-12-01T00:00:00",
          "2021-12-02T00:00:00",
          "2021-12-03T00:00:00",
          "2021-12-06T00:00:00",
          "2021-12-07T00:00:00",
          "2021-12-08T00:00:00",
          "2021-12-09T00:00:00",
          "2021-12-10T00:00:00",
          "2021-12-13T00:00:00",
          "2021-12-14T00:00:00",
          "2021-12-15T00:00:00",
          "2021-12-16T00:00:00",
          "2021-12-17T00:00:00",
          "2021-12-20T00:00:00",
          "2021-12-21T00:00:00",
          "2021-12-22T00:00:00",
          "2021-12-23T00:00:00",
          "2021-12-27T00:00:00",
          "2021-12-28T00:00:00",
          "2021-12-29T00:00:00",
          "2021-12-30T00:00:00"
         ],
         "y": [
          null,
          -0.01350265132296491,
          -0.011383671025665065,
          0.014804633379882137,
          0.005673415429453099,
          0.045668189108297064,
          -0.017341008951921477,
          0.038954229430227416,
          -0.018621007088723163,
          -0.04769233440271203,
          -0.019386113883068212,
          0.009060953523761128,
          -0.036598647196746104,
          0.04900439618145125,
          -0.03069469101395017,
          -0.019444426415878402,
          -0.031161443622481966,
          0.049415177363899554,
          -0.017971605934808954,
          0.0422755489749449,
          0.05934393127210602,
          -0.012206063251288035,
          -0.013007333355868345,
          0.03452821430072883,
          0.03299366936402581,
          -0.041312125988030024,
          0.021739087765269005,
          -0.02643837874642574,
          0.029225438353518873,
          0.09448427207265064,
          0.014923562640666965,
          0.005429288298531176,
          0.03712452761524987,
          -0.03731422798516426,
          -0.015661964953785357,
          -0.03949178853232804,
          -0.003575227470822173,
          0.05525653508143624,
          -0.029015025099480618,
          0.04610709538334601,
          0.03760320209829682,
          0.07602965856428034,
          -0.0505696169414348,
          0.03926317315352579,
          -0.04385704023272996,
          -0.016419463968333936,
          0.007108237568749898,
          -0.028980848391787495,
          0.0022026936048151757,
          0.06043947406645289,
          -0.08601035818822822,
          0.06496598345234395,
          -0.0359841750772697,
          -0.038873575333843724,
          0.01126043570960733,
          0.01590732292089836,
          0.03467178393308923,
          0.02043013379789249,
          -0.022563490819924592,
          0.00010831805115163462,
          -0.014087572480232513,
          -0.003956836643904449,
          0.03167067907250032,
          0.011872934143428049,
          0.0015856599642982694,
          -0.0027440656296994215,
          0.025611135249866024,
          0.037044701946023384,
          0.012935334524745823,
          -0.0412573736447146,
          0.0055327765933932405,
          -0.021805557917445095,
          -0.03166675441794542,
          -0.021406993871903923,
          0.009673551320823925,
          -0.01687541421494876,
          -0.002436252467487132,
          0.02431170665877036,
          0.0035764594694625007,
          -0.01101514405940196,
          0.0030574227946074117,
          0.03701286276817428,
          0.018265776397111022,
          -0.010309219563065741,
          0.0005207458924954,
          -0.038001019106054135,
          -0.01677486329119615,
          -0.019812911878919315,
          -0.02695112614428874,
          0.05712635750009021,
          0.026746712842828035,
          -0.00956939448625127,
          -0.019860383711876484,
          -0.029025228915780965,
          0.016356510040313132,
          0.06548281216426899,
          -0.01927087627765034,
          0.0010621592057735718,
          0.02546416618156555,
          0.017071905070281446,
          0.003560513497838924,
          -0.0035478812188703968,
          0.03153615686904576,
          0.010848092007184063,
          -0.03902435302734397,
          -0.019289393573532543,
          -0.016563131463710468,
          0.027368445145456333,
          0.008709020097708908,
          -0.01574410182238506,
          0.03611975197380546,
          -0.001494058105552254,
          -0.045386527782507846,
          -0.007314492900358016,
          0.022105267173365695,
          -0.004634405367369809,
          0.008277281326622754,
          -0.002052283665902599,
          -0.019023178648836292,
          -0.01624735152945267,
          0.011188017013915585,
          0.0268704025912605,
          0.05387384077680468,
          0.035053519048785065,
          0.010818416733780811,
          -0.05816658973072486,
          -0.019762827225969448,
          -0.013104850145272073,
          -0.007150122073234955,
          0.006687199444199932,
          -0.011241661562860106,
          -0.02067181450359734,
          -0.005277064772751361,
          -0.03448273768573795,
          0.032966947745566744,
          0.010638338885949894,
          0.0031578666285463353,
          -0.005771180801945053,
          -0.010554129545503277,
          -0.04266662597656268,
          0.0027854726983511657,
          0.02111106448703337,
          -0.028835625870331394,
          -0.01456583884175977,
          0.01762361928671008,
          -0.0335195750981242,
          -0.0017340335618407643,
          0.011580709339293227,
          0.006296543484548112,
          0.06484638194515502,
          -0.022435902334372315,
          -0.03005460437105978,
          -0.018591544997524023,
          -0.037313410774023725,
          -0.0011926331077951602,
          0.0316418320385381,
          0.04745368415742823,
          -0.003867386372868986,
          0.03605100353721635,
          0.0214132554601425,
          -0.008385736271063093,
          -0.045454577530848805,
          0.07419713135179595,
          -0.005154658940003443,
          -0.006735708078007163,
          -0.028169061730736522,
          0.007514831095210006,
          -0.033031477043835245,
          0.02093669840782142,
          -0.01457099016506025,
          0.08324208317147153,
          -0.03437817399242482,
          0.021989532351078367,
          0.005635179324966932,
          0.07437600887621598,
          -0.009483203484704994,
          -0.039253217749281255,
          -0.05680116626720366,
          0.017432642281354438,
          0.07476638198052665,
          0.02270528000153349,
          0.03873404307364381,
          0.05093228062259536,
          -0.051060158979278625,
          0.041951667281865834,
          0.09496717899636042,
          0.05315746999890103,
          -0.01100572718516124,
          0.005372267838302802,
          0.0019083677711673186,
          0.017142886207217156,
          0.011985006954321475,
          0.028497425785291908,
          -0.030226704746833977,
          0.04452685794506572,
          -0.014564826037944956,
          -0.020908432894434448,
          -0.014359329596447035,
          0.003361977999585264,
          -0.021221134842586253,
          0.007227030052964878,
          0.035498510207988776,
          -0.00984684380059897,
          -0.06629831537205677,
          -0.07258383135697655,
          -0.0017014425834930291,
          -0.0029825179749531916,
          0.017094001070560916,
          -0.017226884897276418,
          0.17870886764647342,
          0.006891568232163969,
          -0.04538905686214367,
          -0.029811355302918452,
          -0.0015557763361753185,
          -0.05103231250677576,
          -0.034893282437296835,
          -0.01914082341805501,
          -0.04423237528350721,
          -0.026315871459245965,
          0.003261957369956381,
          0.052949342930376675,
          -0.03396561337328219,
          0.008219192160326738,
          -0.08740943441325144,
          0.03424320333103559,
          -0.026391517899881256,
          0.0009856357571544905,
          0.03200392100552518,
          0.011927481437019827,
          0.018859101515555032,
          0.01480794473790703,
          -0.04377569441231244,
          -0.010968028124343165,
          -0.0019285925082029864,
          -0.014975911201221992,
          -0.03384005136651891,
          0.010152225778948587,
          0.006030193041896226,
          0.01398595269203895,
          -0.0586206242085211,
          0.0272108076298736,
          0.012226270439505527,
          -0.008555614952883261,
          0.04873091610629032,
          -0.029525683197329178,
          0,
          0.03092273630052733
         ]
        }
       ],
       "layout": {
        "height": 400,
        "template": {
         "data": {
          "bar": [
           {
            "error_x": {
             "color": "rgb(36,36,36)"
            },
            "error_y": {
             "color": "rgb(36,36,36)"
            },
            "marker": {
             "line": {
              "color": "white",
              "width": 0.5
             },
             "pattern": {
              "fillmode": "overlay",
              "size": 10,
              "solidity": 0.2
             }
            },
            "type": "bar"
           }
          ],
          "barpolar": [
           {
            "marker": {
             "line": {
              "color": "white",
              "width": 0.5
             },
             "pattern": {
              "fillmode": "overlay",
              "size": 10,
              "solidity": 0.2
             }
            },
            "type": "barpolar"
           }
          ],
          "carpet": [
           {
            "aaxis": {
             "endlinecolor": "rgb(36,36,36)",
             "gridcolor": "white",
             "linecolor": "white",
             "minorgridcolor": "white",
             "startlinecolor": "rgb(36,36,36)"
            },
            "baxis": {
             "endlinecolor": "rgb(36,36,36)",
             "gridcolor": "white",
             "linecolor": "white",
             "minorgridcolor": "white",
             "startlinecolor": "rgb(36,36,36)"
            },
            "type": "carpet"
           }
          ],
          "choropleth": [
           {
            "colorbar": {
             "outlinewidth": 1,
             "tickcolor": "rgb(36,36,36)",
             "ticks": "outside"
            },
            "type": "choropleth"
           }
          ],
          "contour": [
           {
            "colorbar": {
             "outlinewidth": 1,
             "tickcolor": "rgb(36,36,36)",
             "ticks": "outside"
            },
            "colorscale": [
             [
              0,
              "#440154"
             ],
             [
              0.1111111111111111,
              "#482878"
             ],
             [
              0.2222222222222222,
              "#3e4989"
             ],
             [
              0.3333333333333333,
              "#31688e"
             ],
             [
              0.4444444444444444,
              "#26828e"
             ],
             [
              0.5555555555555556,
              "#1f9e89"
             ],
             [
              0.6666666666666666,
              "#35b779"
             ],
             [
              0.7777777777777778,
              "#6ece58"
             ],
             [
              0.8888888888888888,
              "#b5de2b"
             ],
             [
              1,
              "#fde725"
             ]
            ],
            "type": "contour"
           }
          ],
          "contourcarpet": [
           {
            "colorbar": {
             "outlinewidth": 1,
             "tickcolor": "rgb(36,36,36)",
             "ticks": "outside"
            },
            "type": "contourcarpet"
           }
          ],
          "heatmap": [
           {
            "colorbar": {
             "outlinewidth": 1,
             "tickcolor": "rgb(36,36,36)",
             "ticks": "outside"
            },
            "colorscale": [
             [
              0,
              "#440154"
             ],
             [
              0.1111111111111111,
              "#482878"
             ],
             [
              0.2222222222222222,
              "#3e4989"
             ],
             [
              0.3333333333333333,
              "#31688e"
             ],
             [
              0.4444444444444444,
              "#26828e"
             ],
             [
              0.5555555555555556,
              "#1f9e89"
             ],
             [
              0.6666666666666666,
              "#35b779"
             ],
             [
              0.7777777777777778,
              "#6ece58"
             ],
             [
              0.8888888888888888,
              "#b5de2b"
             ],
             [
              1,
              "#fde725"
             ]
            ],
            "type": "heatmap"
           }
          ],
          "heatmapgl": [
           {
            "colorbar": {
             "outlinewidth": 1,
             "tickcolor": "rgb(36,36,36)",
             "ticks": "outside"
            },
            "colorscale": [
             [
              0,
              "#440154"
             ],
             [
              0.1111111111111111,
              "#482878"
             ],
             [
              0.2222222222222222,
              "#3e4989"
             ],
             [
              0.3333333333333333,
              "#31688e"
             ],
             [
              0.4444444444444444,
              "#26828e"
             ],
             [
              0.5555555555555556,
              "#1f9e89"
             ],
             [
              0.6666666666666666,
              "#35b779"
             ],
             [
              0.7777777777777778,
              "#6ece58"
             ],
             [
              0.8888888888888888,
              "#b5de2b"
             ],
             [
              1,
              "#fde725"
             ]
            ],
            "type": "heatmapgl"
           }
          ],
          "histogram": [
           {
            "marker": {
             "line": {
              "color": "white",
              "width": 0.6
             }
            },
            "type": "histogram"
           }
          ],
          "histogram2d": [
           {
            "colorbar": {
             "outlinewidth": 1,
             "tickcolor": "rgb(36,36,36)",
             "ticks": "outside"
            },
            "colorscale": [
             [
              0,
              "#440154"
             ],
             [
              0.1111111111111111,
              "#482878"
             ],
             [
              0.2222222222222222,
              "#3e4989"
             ],
             [
              0.3333333333333333,
              "#31688e"
             ],
             [
              0.4444444444444444,
              "#26828e"
             ],
             [
              0.5555555555555556,
              "#1f9e89"
             ],
             [
              0.6666666666666666,
              "#35b779"
             ],
             [
              0.7777777777777778,
              "#6ece58"
             ],
             [
              0.8888888888888888,
              "#b5de2b"
             ],
             [
              1,
              "#fde725"
             ]
            ],
            "type": "histogram2d"
           }
          ],
          "histogram2dcontour": [
           {
            "colorbar": {
             "outlinewidth": 1,
             "tickcolor": "rgb(36,36,36)",
             "ticks": "outside"
            },
            "colorscale": [
             [
              0,
              "#440154"
             ],
             [
              0.1111111111111111,
              "#482878"
             ],
             [
              0.2222222222222222,
              "#3e4989"
             ],
             [
              0.3333333333333333,
              "#31688e"
             ],
             [
              0.4444444444444444,
              "#26828e"
             ],
             [
              0.5555555555555556,
              "#1f9e89"
             ],
             [
              0.6666666666666666,
              "#35b779"
             ],
             [
              0.7777777777777778,
              "#6ece58"
             ],
             [
              0.8888888888888888,
              "#b5de2b"
             ],
             [
              1,
              "#fde725"
             ]
            ],
            "type": "histogram2dcontour"
           }
          ],
          "mesh3d": [
           {
            "colorbar": {
             "outlinewidth": 1,
             "tickcolor": "rgb(36,36,36)",
             "ticks": "outside"
            },
            "type": "mesh3d"
           }
          ],
          "parcoords": [
           {
            "line": {
             "colorbar": {
              "outlinewidth": 1,
              "tickcolor": "rgb(36,36,36)",
              "ticks": "outside"
             }
            },
            "type": "parcoords"
           }
          ],
          "pie": [
           {
            "automargin": true,
            "type": "pie"
           }
          ],
          "scatter": [
           {
            "fillpattern": {
             "fillmode": "overlay",
             "size": 10,
             "solidity": 0.2
            },
            "type": "scatter"
           }
          ],
          "scatter3d": [
           {
            "line": {
             "colorbar": {
              "outlinewidth": 1,
              "tickcolor": "rgb(36,36,36)",
              "ticks": "outside"
             }
            },
            "marker": {
             "colorbar": {
              "outlinewidth": 1,
              "tickcolor": "rgb(36,36,36)",
              "ticks": "outside"
             }
            },
            "type": "scatter3d"
           }
          ],
          "scattercarpet": [
           {
            "marker": {
             "colorbar": {
              "outlinewidth": 1,
              "tickcolor": "rgb(36,36,36)",
              "ticks": "outside"
             }
            },
            "type": "scattercarpet"
           }
          ],
          "scattergeo": [
           {
            "marker": {
             "colorbar": {
              "outlinewidth": 1,
              "tickcolor": "rgb(36,36,36)",
              "ticks": "outside"
             }
            },
            "type": "scattergeo"
           }
          ],
          "scattergl": [
           {
            "marker": {
             "colorbar": {
              "outlinewidth": 1,
              "tickcolor": "rgb(36,36,36)",
              "ticks": "outside"
             }
            },
            "type": "scattergl"
           }
          ],
          "scattermapbox": [
           {
            "marker": {
             "colorbar": {
              "outlinewidth": 1,
              "tickcolor": "rgb(36,36,36)",
              "ticks": "outside"
             }
            },
            "type": "scattermapbox"
           }
          ],
          "scatterpolar": [
           {
            "marker": {
             "colorbar": {
              "outlinewidth": 1,
              "tickcolor": "rgb(36,36,36)",
              "ticks": "outside"
             }
            },
            "type": "scatterpolar"
           }
          ],
          "scatterpolargl": [
           {
            "marker": {
             "colorbar": {
              "outlinewidth": 1,
              "tickcolor": "rgb(36,36,36)",
              "ticks": "outside"
             }
            },
            "type": "scatterpolargl"
           }
          ],
          "scatterternary": [
           {
            "marker": {
             "colorbar": {
              "outlinewidth": 1,
              "tickcolor": "rgb(36,36,36)",
              "ticks": "outside"
             }
            },
            "type": "scatterternary"
           }
          ],
          "surface": [
           {
            "colorbar": {
             "outlinewidth": 1,
             "tickcolor": "rgb(36,36,36)",
             "ticks": "outside"
            },
            "colorscale": [
             [
              0,
              "#440154"
             ],
             [
              0.1111111111111111,
              "#482878"
             ],
             [
              0.2222222222222222,
              "#3e4989"
             ],
             [
              0.3333333333333333,
              "#31688e"
             ],
             [
              0.4444444444444444,
              "#26828e"
             ],
             [
              0.5555555555555556,
              "#1f9e89"
             ],
             [
              0.6666666666666666,
              "#35b779"
             ],
             [
              0.7777777777777778,
              "#6ece58"
             ],
             [
              0.8888888888888888,
              "#b5de2b"
             ],
             [
              1,
              "#fde725"
             ]
            ],
            "type": "surface"
           }
          ],
          "table": [
           {
            "cells": {
             "fill": {
              "color": "rgb(237,237,237)"
             },
             "line": {
              "color": "white"
             }
            },
            "header": {
             "fill": {
              "color": "rgb(217,217,217)"
             },
             "line": {
              "color": "white"
             }
            },
            "type": "table"
           }
          ]
         },
         "layout": {
          "annotationdefaults": {
           "arrowhead": 0,
           "arrowwidth": 1
          },
          "autotypenumbers": "strict",
          "coloraxis": {
           "colorbar": {
            "outlinewidth": 1,
            "tickcolor": "rgb(36,36,36)",
            "ticks": "outside"
           }
          },
          "colorscale": {
           "diverging": [
            [
             0,
             "rgb(103,0,31)"
            ],
            [
             0.1,
             "rgb(178,24,43)"
            ],
            [
             0.2,
             "rgb(214,96,77)"
            ],
            [
             0.3,
             "rgb(244,165,130)"
            ],
            [
             0.4,
             "rgb(253,219,199)"
            ],
            [
             0.5,
             "rgb(247,247,247)"
            ],
            [
             0.6,
             "rgb(209,229,240)"
            ],
            [
             0.7,
             "rgb(146,197,222)"
            ],
            [
             0.8,
             "rgb(67,147,195)"
            ],
            [
             0.9,
             "rgb(33,102,172)"
            ],
            [
             1,
             "rgb(5,48,97)"
            ]
           ],
           "sequential": [
            [
             0,
             "#440154"
            ],
            [
             0.1111111111111111,
             "#482878"
            ],
            [
             0.2222222222222222,
             "#3e4989"
            ],
            [
             0.3333333333333333,
             "#31688e"
            ],
            [
             0.4444444444444444,
             "#26828e"
            ],
            [
             0.5555555555555556,
             "#1f9e89"
            ],
            [
             0.6666666666666666,
             "#35b779"
            ],
            [
             0.7777777777777778,
             "#6ece58"
            ],
            [
             0.8888888888888888,
             "#b5de2b"
            ],
            [
             1,
             "#fde725"
            ]
           ],
           "sequentialminus": [
            [
             0,
             "#440154"
            ],
            [
             0.1111111111111111,
             "#482878"
            ],
            [
             0.2222222222222222,
             "#3e4989"
            ],
            [
             0.3333333333333333,
             "#31688e"
            ],
            [
             0.4444444444444444,
             "#26828e"
            ],
            [
             0.5555555555555556,
             "#1f9e89"
            ],
            [
             0.6666666666666666,
             "#35b779"
            ],
            [
             0.7777777777777778,
             "#6ece58"
            ],
            [
             0.8888888888888888,
             "#b5de2b"
            ],
            [
             1,
             "#fde725"
            ]
           ]
          },
          "colorway": [
           "#1F77B4",
           "#FF7F0E",
           "#2CA02C",
           "#D62728",
           "#9467BD",
           "#8C564B",
           "#E377C2",
           "#7F7F7F",
           "#BCBD22",
           "#17BECF"
          ],
          "font": {
           "color": "rgb(36,36,36)"
          },
          "geo": {
           "bgcolor": "white",
           "lakecolor": "white",
           "landcolor": "white",
           "showlakes": true,
           "showland": true,
           "subunitcolor": "white"
          },
          "hoverlabel": {
           "align": "left"
          },
          "hovermode": "closest",
          "mapbox": {
           "style": "light"
          },
          "paper_bgcolor": "white",
          "plot_bgcolor": "white",
          "polar": {
           "angularaxis": {
            "gridcolor": "rgb(232,232,232)",
            "linecolor": "rgb(36,36,36)",
            "showgrid": false,
            "showline": true,
            "ticks": "outside"
           },
           "bgcolor": "white",
           "radialaxis": {
            "gridcolor": "rgb(232,232,232)",
            "linecolor": "rgb(36,36,36)",
            "showgrid": false,
            "showline": true,
            "ticks": "outside"
           }
          },
          "scene": {
           "xaxis": {
            "backgroundcolor": "white",
            "gridcolor": "rgb(232,232,232)",
            "gridwidth": 2,
            "linecolor": "rgb(36,36,36)",
            "showbackground": true,
            "showgrid": false,
            "showline": true,
            "ticks": "outside",
            "zeroline": false,
            "zerolinecolor": "rgb(36,36,36)"
           },
           "yaxis": {
            "backgroundcolor": "white",
            "gridcolor": "rgb(232,232,232)",
            "gridwidth": 2,
            "linecolor": "rgb(36,36,36)",
            "showbackground": true,
            "showgrid": false,
            "showline": true,
            "ticks": "outside",
            "zeroline": false,
            "zerolinecolor": "rgb(36,36,36)"
           },
           "zaxis": {
            "backgroundcolor": "white",
            "gridcolor": "rgb(232,232,232)",
            "gridwidth": 2,
            "linecolor": "rgb(36,36,36)",
            "showbackground": true,
            "showgrid": false,
            "showline": true,
            "ticks": "outside",
            "zeroline": false,
            "zerolinecolor": "rgb(36,36,36)"
           }
          },
          "shapedefaults": {
           "fillcolor": "black",
           "line": {
            "width": 0
           },
           "opacity": 0.3
          },
          "ternary": {
           "aaxis": {
            "gridcolor": "rgb(232,232,232)",
            "linecolor": "rgb(36,36,36)",
            "showgrid": false,
            "showline": true,
            "ticks": "outside"
           },
           "baxis": {
            "gridcolor": "rgb(232,232,232)",
            "linecolor": "rgb(36,36,36)",
            "showgrid": false,
            "showline": true,
            "ticks": "outside"
           },
           "bgcolor": "white",
           "caxis": {
            "gridcolor": "rgb(232,232,232)",
            "linecolor": "rgb(36,36,36)",
            "showgrid": false,
            "showline": true,
            "ticks": "outside"
           }
          },
          "title": {
           "x": 0.05
          },
          "xaxis": {
           "automargin": true,
           "gridcolor": "rgb(232,232,232)",
           "linecolor": "rgb(36,36,36)",
           "showgrid": false,
           "showline": true,
           "ticks": "outside",
           "title": {
            "standoff": 15
           },
           "zeroline": false,
           "zerolinecolor": "rgb(36,36,36)"
          },
          "yaxis": {
           "automargin": true,
           "gridcolor": "rgb(232,232,232)",
           "linecolor": "rgb(36,36,36)",
           "showgrid": false,
           "showline": true,
           "ticks": "outside",
           "title": {
            "standoff": 15
           },
           "zeroline": false,
           "zerolinecolor": "rgb(36,36,36)"
          }
         }
        },
        "title": {
         "text": "Retornos diários de ABEV3 e PRIO3"
        },
        "width": 700
       }
      }
     },
     "metadata": {},
     "output_type": "display_data"
    }
   ],
   "source": [
    "fig = go.Figure()\n",
    "fig.add_trace(go.Scatter(x = abev3.Data, y = abev3.Retornos, name = 'ABEV3'))\n",
    "fig.add_trace(go.Scatter(x = prio3.Data, y = prio3.Retornos, name = 'PRIO3'))\n",
    "fig.update_layout(title = 'Retornos diários de ABEV3 e PRIO3', template = 'simple_white', height = 400, width = 700)\n",
    "fig.show()"
   ]
  },
  {
   "cell_type": "code",
   "execution_count": null,
   "metadata": {},
   "outputs": [],
   "source": [
    "# para colocar parenteses em volta do texto no começo e no final, selecione o texto e click em shift + parenteses.\n",
    "# Remover uma coluna do data frame usando o método Drop\n",
    "#  axis=0 é linha\n",
    "# axis=1 é coluna\n",
    "# abev3.drop(['Retornos'], axis = 1)      ------  esse comando eliminaria a coluna RETORNOS\n",
    "\n"
   ]
  }
 ],
 "metadata": {
  "kernelspec": {
   "display_name": "Python 3.10.6 64-bit",
   "language": "python",
   "name": "python3"
  },
  "language_info": {
   "codemirror_mode": {
    "name": "ipython",
    "version": 3
   },
   "file_extension": ".py",
   "mimetype": "text/x-python",
   "name": "python",
   "nbconvert_exporter": "python",
   "pygments_lexer": "ipython3",
   "version": "3.10.6"
  },
  "orig_nbformat": 4,
  "vscode": {
   "interpreter": {
    "hash": "4883b5da4f79fb5cb0ad82266243f80940b73dcf301093f01aadc9606615ac1e"
   }
  }
 },
 "nbformat": 4,
 "nbformat_minor": 2
}
